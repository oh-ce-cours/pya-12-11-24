{
 "cells": [
  {
   "cell_type": "markdown",
   "id": "1ad7b900-4a58-4cb4-a121-3083cf59a509",
   "metadata": {},
   "source": [
    "# Rappels jour 2 \n",
    "\n",
    "* programmation fonctionnelle\n",
    "    * `map` /  `filter` : prennent des fonctions en arguments\n",
    "        * fonction d'ordre supérieur (`higher order function`)\n",
    "        * les fonctions sont des \"citoyens de première classe\" (first class citizens) en python => on peut les manipuler comme des variables classiques\n",
    "* gestion de la mémoire\n",
    "    * il y a un `garbage collector` => les variables sont nettoyées \"quand on en a plus besoin\"\n",
    "    * quand on a des types non primitifs (à peu près tout sauf `str`, `int`, `float`) on travaille sur des \"pointeurs\" ou des \"vues\" de nos données. Il faut faire attention quand on manipule les données \"en place\" (`inplace`)  \n",
    "* "
   ]
  },
  {
   "cell_type": "code",
   "execution_count": 4,
   "id": "aae97962-ad6f-4d22-bfdc-f31112280089",
   "metadata": {},
   "outputs": [
    {
     "name": "stdout",
     "output_type": "stream",
     "text": [
      "dans f\n"
     ]
    }
   ],
   "source": [
    "def f():\n",
    "    print(\"dans f\") \n",
    "\n",
    "g = f \n",
    "k = g\n",
    "l = k\n",
    "g()"
   ]
  },
  {
   "cell_type": "code",
   "execution_count": 5,
   "id": "917cd26f-5034-4eaf-ac26-b24b4ffe3e5e",
   "metadata": {},
   "outputs": [
    {
     "name": "stdout",
     "output_type": "stream",
     "text": [
      "Help on function f in module __main__:\n",
      "\n",
      "f()\n",
      "\n"
     ]
    }
   ],
   "source": [
    "help(l)"
   ]
  },
  {
   "cell_type": "code",
   "execution_count": 6,
   "id": "3c120e3d-119e-4ffb-a6c2-10eb302c43a0",
   "metadata": {},
   "outputs": [],
   "source": [
    "l = [1, 2, 3]\n",
    "l2 = l \n",
    "l2[0] = 6"
   ]
  },
  {
   "cell_type": "code",
   "execution_count": 26,
   "id": "87f78977-db6d-482e-9078-1768f18993a9",
   "metadata": {},
   "outputs": [
    {
     "name": "stdout",
     "output_type": "stream",
     "text": [
      "dans mylist\n"
     ]
    }
   ],
   "source": [
    "def mylist():\n",
    "    print(\"dans mylist\")\n",
    "    return []\n",
    "\n",
    "def append(a, l=mylist()):\n",
    "    print(\"dans append\", id(l))\n",
    "    l.append(a)\n",
    "    return l\n",
    "\n",
    "def append_correct(a, l=None):\n",
    "    if l is None:\n",
    "        l = []\n",
    "    l.append(a)\n",
    "    return l\n",
    "\n"
   ]
  },
  {
   "cell_type": "code",
   "execution_count": 25,
   "id": "d593ea9e-e7ab-46c4-9e05-5f47a1893726",
   "metadata": {},
   "outputs": [
    {
     "name": "stdout",
     "output_type": "stream",
     "text": [
      "dans append 4603504192\n",
      "dans append 4603504192\n",
      "[1, 2, 1, 2, 1, 2] [1, 2, 1, 2, 1, 2]\n"
     ]
    }
   ],
   "source": [
    "l1 = append(1)\n",
    "l2 = append(2)\n",
    "print(l1, l2)"
   ]
  },
  {
   "cell_type": "code",
   "execution_count": null,
   "id": "a17f23b2-f5d5-4606-82f0-c35f67b817fb",
   "metadata": {},
   "outputs": [],
   "source": [
    "l1 = append(1)\n",
    "l2 = append(2)\n",
    "print(l1, l2)"
   ]
  }
 ],
 "metadata": {
  "kernelspec": {
   "display_name": "Python 3 (ipykernel)",
   "language": "python",
   "name": "python3"
  },
  "language_info": {
   "codemirror_mode": {
    "name": "ipython",
    "version": 3
   },
   "file_extension": ".py",
   "mimetype": "text/x-python",
   "name": "python",
   "nbconvert_exporter": "python",
   "pygments_lexer": "ipython3",
   "version": "3.12.2"
  }
 },
 "nbformat": 4,
 "nbformat_minor": 5
}
