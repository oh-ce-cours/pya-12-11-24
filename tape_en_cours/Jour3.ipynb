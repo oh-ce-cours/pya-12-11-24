{
 "cells": [
  {
   "cell_type": "markdown",
   "id": "1ad7b900-4a58-4cb4-a121-3083cf59a509",
   "metadata": {},
   "source": [
    "# Rappels jour 2 \n",
    "\n",
    "* programmation fonctionnelle\n",
    "    * `map` /  `filter` : prennent des fonctions en arguments\n",
    "        * fonction d'ordre supérieur (`higher order function`)\n",
    "        * les fonctions sont des \"citoyens de première classe\" (first class citizens) en python => on peut les manipuler comme des variables classiques\n",
    "* gestion de la mémoire\n",
    "    * il y a un `garbage collector` => les variables sont nettoyées \"quand on en a plus besoin\"\n",
    "    * quand on a des types non primitifs (à peu près tout sauf `str`, `int`, `float`) on travaille sur des \"pointeurs\" ou des \"vues\" de nos données. Il faut faire attention quand on manipule les données \"en place\" (`inplace`)  \n",
    "* types conteneurs\n",
    "    * compléxités algorithmiques "
   ]
  },
  {
   "cell_type": "markdown",
   "id": "28e2365e-f2c1-4b36-aa72-84220f943e94",
   "metadata": {},
   "source": [
    "# Programmation fonctionnelle \n",
    "\n"
   ]
  },
  {
   "cell_type": "code",
   "execution_count": null,
   "id": "926d5b08-b722-48a2-88fb-fd45e464e1c3",
   "metadata": {},
   "outputs": [],
   "source": []
  },
  {
   "cell_type": "code",
   "execution_count": null,
   "id": "0c94553b-1675-4c60-9c71-89cb57f92ce6",
   "metadata": {},
   "outputs": [],
   "source": []
  },
  {
   "cell_type": "code",
   "execution_count": null,
   "id": "d4a62996-5ac9-4370-b560-094b9ce325f3",
   "metadata": {},
   "outputs": [],
   "source": []
  },
  {
   "cell_type": "code",
   "execution_count": null,
   "id": "0b6393b5-9adb-4c1d-bcbd-5b77676fa35a",
   "metadata": {},
   "outputs": [],
   "source": []
  },
  {
   "cell_type": "code",
   "execution_count": null,
   "id": "3407bedb-1687-474a-b34d-7e78c54c4137",
   "metadata": {},
   "outputs": [],
   "source": []
  },
  {
   "cell_type": "code",
   "execution_count": 4,
   "id": "aae97962-ad6f-4d22-bfdc-f31112280089",
   "metadata": {},
   "outputs": [
    {
     "name": "stdout",
     "output_type": "stream",
     "text": [
      "dans f\n"
     ]
    }
   ],
   "source": [
    "def f():\n",
    "    print(\"dans f\") \n",
    "\n",
    "g = f \n",
    "k = g\n",
    "l = k\n",
    "g()"
   ]
  },
  {
   "cell_type": "code",
   "execution_count": 5,
   "id": "917cd26f-5034-4eaf-ac26-b24b4ffe3e5e",
   "metadata": {},
   "outputs": [
    {
     "name": "stdout",
     "output_type": "stream",
     "text": [
      "Help on function f in module __main__:\n",
      "\n",
      "f()\n",
      "\n"
     ]
    }
   ],
   "source": [
    "help(l)"
   ]
  },
  {
   "cell_type": "code",
   "execution_count": 6,
   "id": "3c120e3d-119e-4ffb-a6c2-10eb302c43a0",
   "metadata": {},
   "outputs": [],
   "source": [
    "l = [1, 2, 3]\n",
    "l2 = l \n",
    "l2[0] = 6"
   ]
  },
  {
   "cell_type": "code",
   "execution_count": 36,
   "id": "87f78977-db6d-482e-9078-1768f18993a9",
   "metadata": {},
   "outputs": [
    {
     "name": "stdout",
     "output_type": "stream",
     "text": [
      "dans mylist\n"
     ]
    }
   ],
   "source": [
    "def mylist():\n",
    "    print(\"dans mylist\")\n",
    "    return []\n",
    "\n",
    "def append(a, l=mylist()):\n",
    "    print(\"dans append\", id(l))\n",
    "    l.append(a)\n",
    "    return l\n",
    "\n",
    "def append_correct(a, l=None):\n",
    "    if l is None:\n",
    "        l = []\n",
    "    print(\"dans append correct\", id(l))\n",
    "    l.append(a)\n",
    "    return l\n",
    "\n"
   ]
  },
  {
   "cell_type": "code",
   "execution_count": 29,
   "id": "d593ea9e-e7ab-46c4-9e05-5f47a1893726",
   "metadata": {},
   "outputs": [
    {
     "name": "stdout",
     "output_type": "stream",
     "text": [
      "dans append 4603820544\n",
      "dans append 4603820544\n",
      "[1, 2] [1, 2]\n"
     ]
    }
   ],
   "source": [
    "l1 = append(1)\n",
    "l2 = append(2)\n",
    "print(l1, l2)"
   ]
  },
  {
   "cell_type": "code",
   "execution_count": 35,
   "id": "a17f23b2-f5d5-4606-82f0-c35f67b817fb",
   "metadata": {},
   "outputs": [
    {
     "name": "stdout",
     "output_type": "stream",
     "text": [
      "dans append correct 4603573376\n",
      "dans append correct 4588392320\n",
      "[1] [2]\n"
     ]
    }
   ],
   "source": [
    "l1 = append_correct(1)\n",
    "l2 = append_correct(2)\n",
    "print(l1, l2)"
   ]
  },
  {
   "cell_type": "code",
   "execution_count": 40,
   "id": "77440654-92d7-48fa-9855-49dc8317c4ef",
   "metadata": {},
   "outputs": [
    {
     "name": "stdout",
     "output_type": "stream",
     "text": [
      "{'param1': 1, 'param2': 2}\n",
      "{'param1': 3, 'param2': 2}\n",
      "{'param1': 1, 'param2': 2}\n"
     ]
    }
   ],
   "source": [
    "import copy\n",
    "d = {\"param1\": 1, \"param2\": 2}\n",
    "\n",
    "def g(d):\n",
    "    d = copy.deepcopy(d)\n",
    "    d[\"param1\"] = 3\n",
    "    print(d)\n",
    "\n",
    "print(d)\n",
    "g(d)\n",
    "print(d)"
   ]
  },
  {
   "cell_type": "code",
   "execution_count": 105,
   "id": "601d0bdd-4773-4556-8713-f859561c3538",
   "metadata": {},
   "outputs": [
    {
     "name": "stdout",
     "output_type": "stream",
     "text": [
      "288976741 3359670176634325827\n",
      "Matthieu, Falce qui a 12 ans Alain, Genin qui a 34 ans\n"
     ]
    }
   ],
   "source": [
    "class Personne:\n",
    "    def __init__(self, nom, prenom, age):\n",
    "        self.age = age\n",
    "        self.nom = nom\n",
    "        self.prenom = prenom\n",
    "\n",
    "    def __str__(self):\n",
    "        return f\"{self.nom}, {self.prenom} qui a {self.age} ans\"\n",
    "\n",
    "    def __repr__(self):\n",
    "        return str(self)\n",
    "    \"\"\"\n",
    "    def __hash__(self):\n",
    "        return hash((self.age, self.nom, self.prenom))\n",
    "    \"\"\"\n",
    "\n",
    "    def __lt__(self, other):\n",
    "        return self.age < other.age        \n",
    "\n",
    "p1 = Personne(\"Matthieu\", \"Falce\", 33)\n",
    "p2 = Personne(\"Alain\", \"Genin\", 34)\n",
    "\n",
    "print(hash(p1), hash((p1.age, p1.nom, p1.prenom)))\n",
    "d = {p1: \"formateur\", p2: \"eleve\"}\n",
    "p1.age = 12\n",
    "print(p1, p2)"
   ]
  },
  {
   "cell_type": "code",
   "execution_count": 84,
   "id": "8ff9866b-4d9f-4a75-8f39-efe8eb7b0967",
   "metadata": {},
   "outputs": [
    {
     "data": {
      "text/plain": [
       "'formateur'"
      ]
     },
     "execution_count": 84,
     "metadata": {},
     "output_type": "execute_result"
    }
   ],
   "source": [
    "d[p1]"
   ]
  },
  {
   "cell_type": "code",
   "execution_count": 85,
   "id": "09be1966-8528-4084-b02b-a58a1f1333f5",
   "metadata": {},
   "outputs": [
    {
     "data": {
      "text/plain": [
       "288957177"
      ]
     },
     "execution_count": 85,
     "metadata": {},
     "output_type": "execute_result"
    }
   ],
   "source": [
    "hash(p1)"
   ]
  },
  {
   "cell_type": "code",
   "execution_count": 86,
   "id": "e57dfb29-638c-43ab-ba55-ab967a965557",
   "metadata": {},
   "outputs": [
    {
     "data": {
      "text/plain": [
       "'Matthieu, Falce qui a 12 ans'"
      ]
     },
     "execution_count": 86,
     "metadata": {},
     "output_type": "execute_result"
    }
   ],
   "source": [
    "str(p1)\n",
    "# p1.__str__()"
   ]
  },
  {
   "cell_type": "code",
   "execution_count": 87,
   "id": "a11d4d92-9c6f-4204-a8a6-e37cfaa5faa6",
   "metadata": {},
   "outputs": [
    {
     "data": {
      "text/plain": [
       "{'age': 12, 'nom': 'Matthieu', 'prenom': 'Falce'}"
      ]
     },
     "execution_count": 87,
     "metadata": {},
     "output_type": "execute_result"
    }
   ],
   "source": [
    "p1.__dict__"
   ]
  },
  {
   "cell_type": "code",
   "execution_count": 88,
   "id": "f06f79d1-cdfb-41de-b8ad-d351e5bbbdc2",
   "metadata": {},
   "outputs": [
    {
     "data": {
      "text/plain": [
       "{Matthieu, Falce qui a 12 ans: 'formateur', Alain, Genin qui a 34 ans: 'eleve'}"
      ]
     },
     "execution_count": 88,
     "metadata": {},
     "output_type": "execute_result"
    }
   ],
   "source": [
    "d"
   ]
  },
  {
   "cell_type": "code",
   "execution_count": 89,
   "id": "c6d16356-b76c-4c16-9654-d6d47f107fee",
   "metadata": {},
   "outputs": [
    {
     "data": {
      "text/plain": [
       "[Matthieu, Falce qui a 12 ans, Alain, Genin qui a 34 ans]"
      ]
     },
     "execution_count": 89,
     "metadata": {},
     "output_type": "execute_result"
    }
   ],
   "source": [
    "[p1, p2]"
   ]
  },
  {
   "cell_type": "code",
   "execution_count": 90,
   "id": "76a222e6-b599-439a-b87b-7cfb6e2f041e",
   "metadata": {},
   "outputs": [
    {
     "data": {
      "text/plain": [
       "'Matthieu, Falce qui a 12 ans'"
      ]
     },
     "execution_count": 90,
     "metadata": {},
     "output_type": "execute_result"
    }
   ],
   "source": [
    "repr(p1)"
   ]
  },
  {
   "cell_type": "markdown",
   "id": "b3678a63-c239-4391-88a2-38afa4adddd9",
   "metadata": {},
   "source": [
    "## Méthodes magiques (`dunder method`)\n",
    "\n",
    "```python \n",
    "hash(...) => ....__hash__\n",
    "a < b => a.__lt__(b)\n",
    "a + b => a.__add__(b)\n",
    "str(a) => a.__str__\n",
    "```"
   ]
  },
  {
   "cell_type": "code",
   "execution_count": 101,
   "id": "79fc7548-70e1-4361-bc2c-69fed462fb4d",
   "metadata": {},
   "outputs": [
    {
     "data": {
      "text/plain": [
       "[Alain, Genin qui a 34 ans, Matthieu, Falce qui a 12 ans]"
      ]
     },
     "execution_count": 101,
     "metadata": {},
     "output_type": "execute_result"
    }
   ],
   "source": [
    "sorted([p1, p2], key=lambda x: x.nom)"
   ]
  },
  {
   "cell_type": "code",
   "execution_count": 106,
   "id": "31e9fced-162a-4a25-9fec-a79c10b39e9c",
   "metadata": {},
   "outputs": [
    {
     "data": {
      "text/plain": [
       "[Matthieu, Falce qui a 12 ans, Alain, Genin qui a 34 ans]"
      ]
     },
     "execution_count": 106,
     "metadata": {},
     "output_type": "execute_result"
    }
   ],
   "source": [
    "sorted([p1, p2])"
   ]
  },
  {
   "cell_type": "code",
   "execution_count": 111,
   "id": "0542f648-dd38-43a3-9b99-bc006cdebafa",
   "metadata": {},
   "outputs": [
    {
     "data": {
      "text/plain": [
       "3"
      ]
     },
     "execution_count": 111,
     "metadata": {},
     "output_type": "execute_result"
    }
   ],
   "source": [
    "def plus(a, b): \n",
    "    return a + b\n",
    "\n",
    "plus(2, 1)\n",
    "\n",
    "######\n",
    "\n",
    "plus = lambda a, b: a+b\n",
    "plus(2, 1)\n",
    "\n",
    "#######\n",
    "\n",
    "(lambda a, b: a+b)(2, 1)"
   ]
  },
  {
   "cell_type": "code",
   "execution_count": 129,
   "id": "a8579b89-e4c3-4700-970a-12708fec92e0",
   "metadata": {},
   "outputs": [
    {
     "name": "stdout",
     "output_type": "stream",
     "text": [
      "1\n"
     ]
    }
   ],
   "source": [
    "a = 2\n",
    "def g():\n",
    "    a = 1\n",
    "    def f():\n",
    "        print(a)\n",
    "    f()\n",
    "\n",
    "g()\n"
   ]
  },
  {
   "cell_type": "code",
   "execution_count": 130,
   "id": "97da2c40-30e2-4c7a-af17-52aa952da2fb",
   "metadata": {},
   "outputs": [
    {
     "data": {
      "text/plain": [
       "15"
      ]
     },
     "execution_count": 130,
     "metadata": {},
     "output_type": "execute_result"
    }
   ],
   "source": [
    "def ajoute_avec(nombre):\n",
    "    def ajouter(autre_nombre):\n",
    "        return nombre + autre_nombre \n",
    "    return ajouter\n",
    "\n",
    "ajoute_avec(10)(5)"
   ]
  },
  {
   "cell_type": "code",
   "execution_count": 142,
   "id": "811902dd-69a2-453f-bcb5-30fe6afe7f66",
   "metadata": {},
   "outputs": [
    {
     "name": "stdout",
     "output_type": "stream",
     "text": [
      "<function f at 0x1134d5da0>\n",
      "<function deco.<locals>.wrapper at 0x11381c400>\n",
      "avant\n",
      "dans f toto\n",
      "apres\n",
      "toto\n"
     ]
    }
   ],
   "source": [
    "def f(param):\n",
    "    print(\"dans f\", param)\n",
    "    return param\n",
    "\n",
    "\n",
    "def deco(une_fonction):\n",
    "    def wrapper(param):\n",
    "        print(\"avant\")\n",
    "        res = une_fonction(param)\n",
    "        print(\"apres\")\n",
    "        return res\n",
    "    return wrapper \n",
    "\n",
    "print(f)\n",
    "f = deco(f)\n",
    "print(f)\n",
    "print(f(\"toto\"))"
   ]
  },
  {
   "cell_type": "code",
   "execution_count": 137,
   "id": "94cf284b-c87a-41f9-88e0-e0885a42fdbe",
   "metadata": {},
   "outputs": [
    {
     "name": "stdout",
     "output_type": "stream",
     "text": [
      "<function deco.<locals>.sa_propre_fonction at 0x11381d3a0>\n",
      "avant\n",
      "dans g\n",
      "apres\n"
     ]
    }
   ],
   "source": [
    "@deco\n",
    "def g():\n",
    "    print(\"dans g\")\n",
    "\n",
    "print(g)\n",
    "g()"
   ]
  },
  {
   "cell_type": "code",
   "execution_count": 149,
   "id": "05b928b3-7844-4ee5-9e5b-ae3d319f819d",
   "metadata": {},
   "outputs": [
    {
     "name": "stdout",
     "output_type": "stream",
     "text": [
      "1 2\n",
      "1 2\n",
      "1 2\n"
     ]
    }
   ],
   "source": [
    "def f(*args):\n",
    "    print(*args)\n",
    "    print(1, 2)\n",
    "    print(*(1, 2))\n",
    "\n",
    "f(1, 2)"
   ]
  },
  {
   "cell_type": "code",
   "execution_count": 166,
   "id": "2003a128-3342-419b-9a9d-88ef076c2c95",
   "metadata": {},
   "outputs": [
    {
     "ename": "TypeError",
     "evalue": "'b' is an invalid keyword argument for print()",
     "output_type": "error",
     "traceback": [
      "\u001b[0;31m---------------------------------------------------------------------------\u001b[0m",
      "\u001b[0;31mTypeError\u001b[0m                                 Traceback (most recent call last)",
      "Cell \u001b[0;32mIn[166], line 4\u001b[0m\n\u001b[1;32m      1\u001b[0m \u001b[38;5;28;01mdef\u001b[39;00m \u001b[38;5;21mg\u001b[39m(\u001b[38;5;241m*\u001b[39m, c, \u001b[38;5;241m*\u001b[39m\u001b[38;5;241m*\u001b[39mkwargs):\n\u001b[1;32m      2\u001b[0m     \u001b[38;5;28mprint\u001b[39m(a, \u001b[38;5;241m*\u001b[39m\u001b[38;5;241m*\u001b[39mkwargs)\n\u001b[0;32m----> 4\u001b[0m \u001b[43mg\u001b[49m\u001b[43m(\u001b[49m\u001b[43mc\u001b[49m\u001b[38;5;241;43m=\u001b[39;49m\u001b[38;5;241;43m1\u001b[39;49m\u001b[43m,\u001b[49m\u001b[43m \u001b[49m\u001b[43mb\u001b[49m\u001b[38;5;241;43m=\u001b[39;49m\u001b[38;5;241;43m2\u001b[39;49m\u001b[43m)\u001b[49m\n\u001b[1;32m      5\u001b[0m \u001b[38;5;66;03m#g(1, b=2)\u001b[39;00m\n",
      "Cell \u001b[0;32mIn[166], line 2\u001b[0m, in \u001b[0;36mg\u001b[0;34m(c, **kwargs)\u001b[0m\n\u001b[1;32m      1\u001b[0m \u001b[38;5;28;01mdef\u001b[39;00m \u001b[38;5;21mg\u001b[39m(\u001b[38;5;241m*\u001b[39m, c, \u001b[38;5;241m*\u001b[39m\u001b[38;5;241m*\u001b[39mkwargs):\n\u001b[0;32m----> 2\u001b[0m     \u001b[38;5;28;43mprint\u001b[39;49m\u001b[43m(\u001b[49m\u001b[43ma\u001b[49m\u001b[43m,\u001b[49m\u001b[43m \u001b[49m\u001b[38;5;241;43m*\u001b[39;49m\u001b[38;5;241;43m*\u001b[39;49m\u001b[43mkwargs\u001b[49m\u001b[43m)\u001b[49m\n",
      "\u001b[0;31mTypeError\u001b[0m: 'b' is an invalid keyword argument for print()"
     ]
    }
   ],
   "source": [
    "def g(*, c, **kwargs):\n",
    "    print(a, **kwargs)\n",
    "\n",
    "g(c=1, b=2)\n",
    "#g(1, b=2)"
   ]
  },
  {
   "cell_type": "code",
   "execution_count": 167,
   "id": "e4775ba6-bfc2-4002-956f-e64bb737c803",
   "metadata": {},
   "outputs": [
    {
     "data": {
      "text/plain": [
       "\u001b[0;31mSignature:\u001b[0m \u001b[0mprint\u001b[0m\u001b[0;34m(\u001b[0m\u001b[0;34m*\u001b[0m\u001b[0margs\u001b[0m\u001b[0;34m,\u001b[0m \u001b[0msep\u001b[0m\u001b[0;34m=\u001b[0m\u001b[0;34m' '\u001b[0m\u001b[0;34m,\u001b[0m \u001b[0mend\u001b[0m\u001b[0;34m=\u001b[0m\u001b[0;34m'\\n'\u001b[0m\u001b[0;34m,\u001b[0m \u001b[0mfile\u001b[0m\u001b[0;34m=\u001b[0m\u001b[0;32mNone\u001b[0m\u001b[0;34m,\u001b[0m \u001b[0mflush\u001b[0m\u001b[0;34m=\u001b[0m\u001b[0;32mFalse\u001b[0m\u001b[0;34m)\u001b[0m\u001b[0;34m\u001b[0m\u001b[0;34m\u001b[0m\u001b[0m\n",
       "\u001b[0;31mDocstring:\u001b[0m\n",
       "Prints the values to a stream, or to sys.stdout by default.\n",
       "\n",
       "sep\n",
       "  string inserted between values, default a space.\n",
       "end\n",
       "  string appended after the last value, default a newline.\n",
       "file\n",
       "  a file-like object (stream); defaults to the current sys.stdout.\n",
       "flush\n",
       "  whether to forcibly flush the stream.\n",
       "\u001b[0;31mType:\u001b[0m      builtin_function_or_method"
      ]
     },
     "metadata": {},
     "output_type": "display_data"
    }
   ],
   "source": [
    "print?"
   ]
  },
  {
   "cell_type": "code",
   "execution_count": 168,
   "id": "1fb4f536-a263-49d6-a4d1-d9b65b006160",
   "metadata": {},
   "outputs": [],
   "source": [
    "def fib(n):\n",
    "    if n < 2:\n",
    "        return n\n",
    "    return fib(n-1) + fib(n-2)"
   ]
  },
  {
   "cell_type": "code",
   "execution_count": null,
   "id": "6d522a84-befe-48a0-822b-8e8c9712944f",
   "metadata": {},
   "outputs": [],
   "source": [
    "fib(5)"
   ]
  }
 ],
 "metadata": {
  "kernelspec": {
   "display_name": "Python 3 (ipykernel)",
   "language": "python",
   "name": "python3"
  },
  "language_info": {
   "codemirror_mode": {
    "name": "ipython",
    "version": 3
   },
   "file_extension": ".py",
   "mimetype": "text/x-python",
   "name": "python",
   "nbconvert_exporter": "python",
   "pygments_lexer": "ipython3",
   "version": "3.12.2"
  }
 },
 "nbformat": 4,
 "nbformat_minor": 5
}
