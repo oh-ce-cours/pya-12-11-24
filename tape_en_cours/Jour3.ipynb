{
 "cells": [
  {
   "cell_type": "markdown",
   "id": "1ad7b900-4a58-4cb4-a121-3083cf59a509",
   "metadata": {},
   "source": [
    "# Rappels jour 2 \n",
    "\n",
    "* programmation fonctionnelle\n",
    "    * `map` /  `filter` : prennent des fonctions en arguments\n",
    "        * "
   ]
  },
  {
   "cell_type": "code",
   "execution_count": null,
   "id": "aae97962-ad6f-4d22-bfdc-f31112280089",
   "metadata": {},
   "outputs": [],
   "source": []
  }
 ],
 "metadata": {
  "kernelspec": {
   "display_name": "Python 3 (ipykernel)",
   "language": "python",
   "name": "python3"
  },
  "language_info": {
   "codemirror_mode": {
    "name": "ipython",
    "version": 3
   },
   "file_extension": ".py",
   "mimetype": "text/x-python",
   "name": "python",
   "nbconvert_exporter": "python",
   "pygments_lexer": "ipython3",
   "version": "3.12.2"
  }
 },
 "nbformat": 4,
 "nbformat_minor": 5
}
