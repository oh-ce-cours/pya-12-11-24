{
 "cells": [
  {
   "cell_type": "code",
   "execution_count": null,
   "id": "07d66a64-93e8-4c73-86fe-4434226ed485",
   "metadata": {},
   "outputs": [],
   "source": []
  }
 ],
 "metadata": {
  "kernelspec": {
   "display_name": "",
   "name": ""
  },
  "language_info": {
   "name": ""
  }
 },
 "nbformat": 4,
 "nbformat_minor": 5
}
