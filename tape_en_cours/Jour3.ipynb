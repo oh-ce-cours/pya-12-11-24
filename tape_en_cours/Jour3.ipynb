{
 "cells": [
  {
   "cell_type": "markdown",
   "id": "1ad7b900-4a58-4cb4-a121-3083cf59a509",
   "metadata": {},
   "source": [
    "# Rappels jour 2 \n",
    "\n",
    "* programmation fonctionnelle\n",
    "    * `map` /  `filter` : prennent des fonctions en arguments\n",
    "        * fonction d'ordre supérieur (`higher order function`)\n",
    "        * les fonctions sont des \"citoyens de première classe\" (first class citizens) en python => on peut les manipuler comme des variables classiques\n",
    "* gestion de la mémoire\n",
    "    * il y a un `garbage collector` => les variables sont nettoyées \"quand on en a plus besoin\"\n",
    "    * quand on a des types non primitifs (à peu près tout sauf `str`, `int`, `float`) on travaille sur des \"pointeurs\" ou des \"vues\" de nos données. Il faut faire attention   \n",
    "* "
   ]
  },
  {
   "cell_type": "code",
   "execution_count": 4,
   "id": "aae97962-ad6f-4d22-bfdc-f31112280089",
   "metadata": {},
   "outputs": [
    {
     "name": "stdout",
     "output_type": "stream",
     "text": [
      "dans f\n"
     ]
    }
   ],
   "source": [
    "def f():\n",
    "    print(\"dans f\") \n",
    "\n",
    "g = f \n",
    "k = g\n",
    "l = k\n",
    "g()"
   ]
  },
  {
   "cell_type": "code",
   "execution_count": 5,
   "id": "917cd26f-5034-4eaf-ac26-b24b4ffe3e5e",
   "metadata": {},
   "outputs": [
    {
     "name": "stdout",
     "output_type": "stream",
     "text": [
      "Help on function f in module __main__:\n",
      "\n",
      "f()\n",
      "\n"
     ]
    }
   ],
   "source": [
    "help(l)"
   ]
  },
  {
   "cell_type": "code",
   "execution_count": null,
   "id": "3c120e3d-119e-4ffb-a6c2-10eb302c43a0",
   "metadata": {},
   "outputs": [],
   "source": [
    "l = [1, 2, 3]\n",
    "l2 = l \n",
    "l2[0] = 6"
   ]
  }
 ],
 "metadata": {
  "kernelspec": {
   "display_name": "Python 3 (ipykernel)",
   "language": "python",
   "name": "python3"
  },
  "language_info": {
   "codemirror_mode": {
    "name": "ipython",
    "version": 3
   },
   "file_extension": ".py",
   "mimetype": "text/x-python",
   "name": "python",
   "nbconvert_exporter": "python",
   "pygments_lexer": "ipython3",
   "version": "3.12.2"
  }
 },
 "nbformat": 4,
 "nbformat_minor": 5
}
