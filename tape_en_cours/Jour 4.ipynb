{
 "cells": [
  {
   "cell_type": "markdown",
   "id": "eab368e2-2250-4dd3-abd2-18d0824ad2ed",
   "metadata": {},
   "source": [
    "# Multiprocessing \n",
    "\n",
    "\n",
    "# POO \n",
    "\n",
    "* duck typing\n",
    "* méthodes magiques (`__*__`)\n",
    "* classes abstraites / concretes\n",
    "* properties (encapsulation)\n",
    "* héritage (et héritage multiple) => surcharge et `super`\n",
    "* méthodes statiques / méthodes de classes\n",
    "\n",
    "# Autres \n",
    "\n",
    "* pyinstaller "
   ]
  },
  {
   "cell_type": "code",
   "execution_count": 2,
   "id": "4b3a770c-cf30-43b6-a94a-d1bce256c70b",
   "metadata": {},
   "outputs": [
    {
     "name": "stdout",
     "output_type": "stream",
     "text": [
      "0\n",
      "1\n",
      "2\n",
      "3\n",
      "4\n"
     ]
    }
   ],
   "source": [
    "def f():\n",
    "    #for i in range(5):\n",
    "    #    yield i \n",
    "    yield from range(5)\n",
    "\n",
    "for elem in f():\n",
    "    print(elem)"
   ]
  },
  {
   "cell_type": "code",
   "execution_count": 6,
   "id": "34be2945-2cd8-4cc6-8c94-b0eeb6c58f78",
   "metadata": {},
   "outputs": [
    {
     "name": "stdout",
     "output_type": "stream",
     "text": [
      "[5, 6, 7, 8, 9]\n",
      "deque([5, 6, 7, 8, 9], maxlen=5)\n",
      "deque(['\\n', '\\n', 'f = deco(f)\\n', '# print(f(param=\"toto\"))\\n', '# g()\\n'], maxlen=5)\n"
     ]
    }
   ],
   "source": [
    "import collections \n",
    "\n",
    "print(list(range(10))[-5:])\n",
    "print(collections.deque(range(10), 5))\n",
    "print(collections.deque(open(\"./decorator.py\"), 5))"
   ]
  },
  {
   "cell_type": "markdown",
   "id": "a7f924d0-eb4f-486d-8091-6f2199d3c4f3",
   "metadata": {},
   "source": [
    "# POO"
   ]
  },
  {
   "cell_type": "code",
   "execution_count": 14,
   "id": "43927203-06af-4b6c-8033-d240f020878b",
   "metadata": {},
   "outputs": [
    {
     "name": "stdout",
     "output_type": "stream",
     "text": [
      "4629994272\n",
      "4629994272\n",
      "toto\n",
      "toto\n"
     ]
    }
   ],
   "source": [
    "class Example:\n",
    "    def __init__(self):\n",
    "        print(id(self))\n",
    "        self.toto = \"toto\"\n",
    "        \n",
    "    def present(self):\n",
    "        print(self.toto)\n",
    "\n",
    "e = Example()\n",
    "print(id(e))\n",
    "e.toto = \"toto\"\n",
    "print(e.toto)\n",
    "e.present()"
   ]
  },
  {
   "cell_type": "code",
   "execution_count": 32,
   "id": "303e0f5d-8fb8-4f50-a5b2-b46ee766d2ba",
   "metadata": {},
   "outputs": [],
   "source": [
    "class Personne:\n",
    "    def __init__(self, age, prenom):\n",
    "        self.__age = age\n",
    "        self.prenom = prenom \n",
    "\n",
    "    def get_age(self):\n",
    "        print(\"get age\")\n",
    "        return self.__age\n",
    "\n",
    "    def set_age(self, new_value):\n",
    "        print(\"joyeux anniversaire\")\n",
    "        self.__age = new_value\n",
    "\n",
    "    age = property(get_age, set_age)\n",
    "\n",
    "p = Personne(32, \"Matthieu\")"
   ]
  },
  {
   "cell_type": "code",
   "execution_count": 36,
   "id": "c9ed1d81-7ffa-4742-a7d9-9b3f3130f259",
   "metadata": {},
   "outputs": [
    {
     "name": "stdout",
     "output_type": "stream",
     "text": [
      "get age\n",
      "32 32 Matthieu\n",
      "joyeux anniversaire\n",
      "get age\n",
      "33 33 Matthieu\n"
     ]
    }
   ],
   "source": [
    "p = Personne(32, \"Matthieu\")\n",
    "print(p.age, p.get_age(), p.prenom)\n",
    "p.set_age(33)\n",
    "print(p.age, p.get_age(), p.prenom)"
   ]
  },
  {
   "cell_type": "code",
   "execution_count": 34,
   "id": "fedaa484-d8fd-484c-9e75-4dceec157615",
   "metadata": {},
   "outputs": [
    {
     "data": {
      "text/plain": [
       "['_Personne__age',\n",
       " '__class__',\n",
       " '__delattr__',\n",
       " '__dict__',\n",
       " '__dir__',\n",
       " '__doc__',\n",
       " '__eq__',\n",
       " '__format__',\n",
       " '__ge__',\n",
       " '__getattribute__',\n",
       " '__getstate__',\n",
       " '__gt__',\n",
       " '__hash__',\n",
       " '__init__',\n",
       " '__init_subclass__',\n",
       " '__le__',\n",
       " '__lt__',\n",
       " '__module__',\n",
       " '__ne__',\n",
       " '__new__',\n",
       " '__reduce__',\n",
       " '__reduce_ex__',\n",
       " '__repr__',\n",
       " '__setattr__',\n",
       " '__sizeof__',\n",
       " '__str__',\n",
       " '__subclasshook__',\n",
       " '__weakref__',\n",
       " 'get_age',\n",
       " 'prenom',\n",
       " 'set_age']"
      ]
     },
     "execution_count": 34,
     "metadata": {},
     "output_type": "execute_result"
    }
   ],
   "source": [
    "dir(p)"
   ]
  },
  {
   "cell_type": "code",
   "execution_count": null,
   "id": "62b7a8d7-8dcf-4c6d-8ac1-fcae65a9abdd",
   "metadata": {},
   "outputs": [],
   "source": []
  }
 ],
 "metadata": {
  "kernelspec": {
   "display_name": "Python 3 (ipykernel)",
   "language": "python",
   "name": "python3"
  },
  "language_info": {
   "codemirror_mode": {
    "name": "ipython",
    "version": 3
   },
   "file_extension": ".py",
   "mimetype": "text/x-python",
   "name": "python",
   "nbconvert_exporter": "python",
   "pygments_lexer": "ipython3",
   "version": "3.12.2"
  }
 },
 "nbformat": 4,
 "nbformat_minor": 5
}
