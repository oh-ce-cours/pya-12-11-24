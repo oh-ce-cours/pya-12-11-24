{
 "cells": [
  {
   "cell_type": "markdown",
   "id": "eab368e2-2250-4dd3-abd2-18d0824ad2ed",
   "metadata": {},
   "source": [
    "# Multiprocessing \n",
    "\n",
    "\n",
    "# POO \n",
    "\n",
    "* duck typing\n",
    "* méthodes magiques (`__*__`)\n",
    "* classes abstraites / concretes\n",
    "* properties (encapsulation)\n",
    "* héritage (et héritage multiple) => surcharge et `super`\n",
    "* méthodes statiques / méthodes de classes\n",
    "\n",
    "# Autres \n",
    "\n",
    "* pyinstaller "
   ]
  },
  {
   "cell_type": "code",
   "execution_count": 2,
   "id": "4b3a770c-cf30-43b6-a94a-d1bce256c70b",
   "metadata": {},
   "outputs": [
    {
     "name": "stdout",
     "output_type": "stream",
     "text": [
      "0\n",
      "1\n",
      "2\n",
      "3\n",
      "4\n"
     ]
    }
   ],
   "source": [
    "def f():\n",
    "    #for i in range(5):\n",
    "    #    yield i \n",
    "    yield from range(5)\n",
    "\n",
    "for elem in f():\n",
    "    print(elem)"
   ]
  },
  {
   "cell_type": "code",
   "execution_count": 6,
   "id": "34be2945-2cd8-4cc6-8c94-b0eeb6c58f78",
   "metadata": {},
   "outputs": [
    {
     "name": "stdout",
     "output_type": "stream",
     "text": [
      "[5, 6, 7, 8, 9]\n",
      "deque([5, 6, 7, 8, 9], maxlen=5)\n",
      "deque(['\\n', '\\n', 'f = deco(f)\\n', '# print(f(param=\"toto\"))\\n', '# g()\\n'], maxlen=5)\n"
     ]
    }
   ],
   "source": [
    "import collections \n",
    "\n",
    "print(list(range(10))[-5:])\n",
    "print(collections.deque(range(10), 5))\n",
    "print(collections.deque(open(\"./decorator.py\"), 5))"
   ]
  },
  {
   "cell_type": "code",
   "execution_count": null,
   "id": "998d3602-a226-4e64-ba20-48b372bfca9e",
   "metadata": {},
   "outputs": [],
   "source": []
  }
 ],
 "metadata": {
  "kernelspec": {
   "display_name": "Python 3 (ipykernel)",
   "language": "python",
   "name": "python3"
  },
  "language_info": {
   "codemirror_mode": {
    "name": "ipython",
    "version": 3
   },
   "file_extension": ".py",
   "mimetype": "text/x-python",
   "name": "python",
   "nbconvert_exporter": "python",
   "pygments_lexer": "ipython3",
   "version": "3.12.2"
  }
 },
 "nbformat": 4,
 "nbformat_minor": 5
}
