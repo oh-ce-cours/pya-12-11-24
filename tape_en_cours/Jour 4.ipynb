{
 "cells": [
  {
   "cell_type": "markdown",
   "id": "eab368e2-2250-4dd3-abd2-18d0824ad2ed",
   "metadata": {},
   "source": [
    "# Multiprocessing \n",
    "\n",
    "\n",
    "# POO \n",
    "\n",
    "* duck typing\n",
    "* méthodes magiques (`__*__`)\n",
    "* classes abstraites / concretes\n",
    "* properties (encapsulation)\n",
    "* héritage (et héritage multiple) => surcharge et `super`\n",
    "* méthodes statiques / méthodes de classes\n",
    "\n",
    "# Autres \n",
    "\n",
    "* pyinstaller "
   ]
  },
  {
   "cell_type": "code",
   "execution_count": 2,
   "id": "4b3a770c-cf30-43b6-a94a-d1bce256c70b",
   "metadata": {},
   "outputs": [
    {
     "name": "stdout",
     "output_type": "stream",
     "text": [
      "0\n",
      "1\n",
      "2\n",
      "3\n",
      "4\n"
     ]
    }
   ],
   "source": [
    "def f():\n",
    "    #for i in range(5):\n",
    "    #    yield i \n",
    "    yield from range(5)\n",
    "\n",
    "for elem in f():\n",
    "    print(elem)"
   ]
  },
  {
   "cell_type": "code",
   "execution_count": 6,
   "id": "34be2945-2cd8-4cc6-8c94-b0eeb6c58f78",
   "metadata": {},
   "outputs": [
    {
     "name": "stdout",
     "output_type": "stream",
     "text": [
      "[5, 6, 7, 8, 9]\n",
      "deque([5, 6, 7, 8, 9], maxlen=5)\n",
      "deque(['\\n', '\\n', 'f = deco(f)\\n', '# print(f(param=\"toto\"))\\n', '# g()\\n'], maxlen=5)\n"
     ]
    }
   ],
   "source": [
    "import collections \n",
    "\n",
    "print(list(range(10))[-5:])\n",
    "print(collections.deque(range(10), 5))\n",
    "print(collections.deque(open(\"./decorator.py\"), 5))"
   ]
  },
  {
   "cell_type": "markdown",
   "id": "a7f924d0-eb4f-486d-8091-6f2199d3c4f3",
   "metadata": {},
   "source": [
    "# POO"
   ]
  },
  {
   "cell_type": "code",
   "execution_count": 14,
   "id": "43927203-06af-4b6c-8033-d240f020878b",
   "metadata": {},
   "outputs": [
    {
     "name": "stdout",
     "output_type": "stream",
     "text": [
      "4629994272\n",
      "4629994272\n",
      "toto\n",
      "toto\n"
     ]
    }
   ],
   "source": [
    "class Example:\n",
    "    def __init__(self):\n",
    "        print(id(self))\n",
    "        self.toto = \"toto\"\n",
    "        \n",
    "    def present(self):\n",
    "        print(self.toto)\n",
    "\n",
    "e = Example()\n",
    "print(id(e))\n",
    "e.toto = \"toto\"\n",
    "print(e.toto)\n",
    "e.present()"
   ]
  },
  {
   "cell_type": "code",
   "execution_count": 44,
   "id": "303e0f5d-8fb8-4f50-a5b2-b46ee766d2ba",
   "metadata": {},
   "outputs": [
    {
     "name": "stdout",
     "output_type": "stream",
     "text": [
      "dans private\n"
     ]
    }
   ],
   "source": [
    "class Personne:\n",
    "    def __init__(self, age, prenom):\n",
    "        self.__age = age\n",
    "        self.prenom = prenom \n",
    "\n",
    "    def get_age(self):\n",
    "        print(\"get age\")\n",
    "        return self.__age\n",
    "\n",
    "    def set_age(self, new_value):\n",
    "        print(\"joyeux anniversaire\")\n",
    "        self.__age = new_value\n",
    "\n",
    "    age = property(get_age, set_age)\n",
    "\n",
    "\n",
    "class Personne:\n",
    "    def __init__(self, age, prenom):\n",
    "        self.__age = age\n",
    "        self.prenom = prenom \n",
    "        self.__private()\n",
    "\n",
    "    @property\n",
    "    def age(self):\n",
    "        print(\"get age\")\n",
    "        return self.__age\n",
    "\n",
    "    @age.setter\n",
    "    def age(self, new_value):\n",
    "        print(\"joyeux anniversaire\")\n",
    "        self.__age = new_value\n",
    "\n",
    "    def __private(self):\n",
    "        print(\"dans private\")\n",
    "\n",
    "p = Personne(32, \"Matthieu\")"
   ]
  },
  {
   "cell_type": "code",
   "execution_count": 51,
   "id": "c9ed1d81-7ffa-4742-a7d9-9b3f3130f259",
   "metadata": {},
   "outputs": [
    {
     "name": "stdout",
     "output_type": "stream",
     "text": [
      "dans private\n",
      "get age\n",
      "32 Matthieu\n",
      "joyeux anniversaire\n",
      "get age\n",
      "33 Matthieu\n"
     ]
    }
   ],
   "source": [
    "p = Personne(32, \"Matthieu\")\n",
    "print(p.age, p.prenom)\n",
    "p.age = 33\n",
    "print(p.age, p.prenom)"
   ]
  },
  {
   "cell_type": "code",
   "execution_count": 34,
   "id": "fedaa484-d8fd-484c-9e75-4dceec157615",
   "metadata": {},
   "outputs": [
    {
     "data": {
      "text/plain": [
       "['_Personne__age',\n",
       " '__class__',\n",
       " '__delattr__',\n",
       " '__dict__',\n",
       " '__dir__',\n",
       " '__doc__',\n",
       " '__eq__',\n",
       " '__format__',\n",
       " '__ge__',\n",
       " '__getattribute__',\n",
       " '__getstate__',\n",
       " '__gt__',\n",
       " '__hash__',\n",
       " '__init__',\n",
       " '__init_subclass__',\n",
       " '__le__',\n",
       " '__lt__',\n",
       " '__module__',\n",
       " '__ne__',\n",
       " '__new__',\n",
       " '__reduce__',\n",
       " '__reduce_ex__',\n",
       " '__repr__',\n",
       " '__setattr__',\n",
       " '__sizeof__',\n",
       " '__str__',\n",
       " '__subclasshook__',\n",
       " '__weakref__',\n",
       " 'get_age',\n",
       " 'prenom',\n",
       " 'set_age']"
      ]
     },
     "execution_count": 34,
     "metadata": {},
     "output_type": "execute_result"
    }
   ],
   "source": [
    "dir(p)"
   ]
  },
  {
   "cell_type": "code",
   "execution_count": 37,
   "id": "62b7a8d7-8dcf-4c6d-8ac1-fcae65a9abdd",
   "metadata": {},
   "outputs": [
    {
     "data": {
      "text/plain": [
       "\u001b[0;31mInit signature:\u001b[0m \u001b[0mproperty\u001b[0m\u001b[0;34m(\u001b[0m\u001b[0mfget\u001b[0m\u001b[0;34m=\u001b[0m\u001b[0;32mNone\u001b[0m\u001b[0;34m,\u001b[0m \u001b[0mfset\u001b[0m\u001b[0;34m=\u001b[0m\u001b[0;32mNone\u001b[0m\u001b[0;34m,\u001b[0m \u001b[0mfdel\u001b[0m\u001b[0;34m=\u001b[0m\u001b[0;32mNone\u001b[0m\u001b[0;34m,\u001b[0m \u001b[0mdoc\u001b[0m\u001b[0;34m=\u001b[0m\u001b[0;32mNone\u001b[0m\u001b[0;34m)\u001b[0m\u001b[0;34m\u001b[0m\u001b[0;34m\u001b[0m\u001b[0m\n",
       "\u001b[0;31mDocstring:\u001b[0m     \n",
       "Property attribute.\n",
       "\n",
       "  fget\n",
       "    function to be used for getting an attribute value\n",
       "  fset\n",
       "    function to be used for setting an attribute value\n",
       "  fdel\n",
       "    function to be used for del'ing an attribute\n",
       "  doc\n",
       "    docstring\n",
       "\n",
       "Typical use is to define a managed attribute x:\n",
       "\n",
       "class C(object):\n",
       "    def getx(self): return self._x\n",
       "    def setx(self, value): self._x = value\n",
       "    def delx(self): del self._x\n",
       "    x = property(getx, setx, delx, \"I'm the 'x' property.\")\n",
       "\n",
       "Decorators make defining new properties or modifying existing ones easy:\n",
       "\n",
       "class C(object):\n",
       "    @property\n",
       "    def x(self):\n",
       "        \"I am the 'x' property.\"\n",
       "        return self._x\n",
       "    @x.setter\n",
       "    def x(self, value):\n",
       "        self._x = value\n",
       "    @x.deleter\n",
       "    def x(self):\n",
       "        del self._x\n",
       "\u001b[0;31mType:\u001b[0m           type\n",
       "\u001b[0;31mSubclasses:\u001b[0m     abstractproperty"
      ]
     },
     "metadata": {},
     "output_type": "display_data"
    }
   ],
   "source": [
    "property?"
   ]
  },
  {
   "cell_type": "code",
   "execution_count": 63,
   "id": "64cb936e-691c-408f-95e5-46f5ccd013b2",
   "metadata": {},
   "outputs": [
    {
     "name": "stdout",
     "output_type": "stream",
     "text": [
      "dans public\n",
      "dans protected\n",
      "dans public\n",
      "dans protected\n"
     ]
    }
   ],
   "source": [
    "class Demo:\n",
    "    def __init__(self):\n",
    "        self.__age = 12\n",
    "\n",
    "    def __private(self):\n",
    "        print(\"dans private\")\n",
    "\n",
    "    def _protected(self):\n",
    "        print(\"dans protected\")\n",
    "\n",
    "    def public(self):\n",
    "        print(\"dans public\")\n",
    "\n",
    "class DemoFille(Demo):\n",
    "    def __init__(self):\n",
    "        self.public()\n",
    "        self._protected()\n",
    "        #self.__private()\n",
    "\n",
    "df = DemoFille()\n",
    "df.public()\n",
    "df._protected()"
   ]
  },
  {
   "cell_type": "code",
   "execution_count": 64,
   "id": "6f217d7c-6abd-4b59-9dd8-544317b75b99",
   "metadata": {},
   "outputs": [
    {
     "name": "stdout",
     "output_type": "stream",
     "text": [
      "getattribute mais_ca_nedoit_pas_exister\n"
     ]
    },
    {
     "data": {
      "text/plain": [
       "3"
      ]
     },
     "execution_count": 64,
     "metadata": {},
     "output_type": "execute_result"
    }
   ],
   "source": [
    "class GetAttributeDemo:\n",
    "    def __getattribute__(self, attr_name): \n",
    "        print(\"getattribute\", attr_name) \n",
    "        return 3\n",
    "\n",
    "gad = GetAttributeDemo()\n",
    "gad.mais_ca_nedoit_pas_exister"
   ]
  },
  {
   "cell_type": "code",
   "execution_count": 102,
   "id": "bda3fc5a-a963-4010-b0e3-6de333dc9737",
   "metadata": {},
   "outputs": [],
   "source": [
    "class GranMere:\n",
    "    def __init__(self):\n",
    "        self.attr = \"attribut de grandmere\"\n",
    "        print(\"dans grand mere\")\n",
    "\n",
    "class Mere(GranMere):\n",
    "    def __init__(self):\n",
    "        self.attr = \"attribut de mere\"\n",
    "        print(\"dans mere\")\n",
    "\n",
    "    def ma_methode(self):\n",
    "        print(\"dans ma méthode de mère\")\n",
    "\n",
    "class GrandPere:\n",
    "    pass\n",
    "\n",
    "class Pere(GrandPere):\n",
    "    pass \n",
    "\n",
    "class Fille(Pere, Mere):\n",
    "    def __init__(self):\n",
    "        print(\"dans fille\")\n",
    "        GranMere.__init__(self)\n",
    "        super().ma_methode()\n",
    "\n",
    "class Garcon(Mere):\n",
    "    pass "
   ]
  },
  {
   "cell_type": "code",
   "execution_count": 103,
   "id": "7de25e1e-95c2-4b27-b1b7-0df73202a59a",
   "metadata": {},
   "outputs": [
    {
     "name": "stdout",
     "output_type": "stream",
     "text": [
      "dans fille\n",
      "dans grand mere\n",
      "dans ma méthode de mère\n",
      "<class '__main__.Fille'>\n",
      "attribut de grandmere\n"
     ]
    }
   ],
   "source": [
    "#m = Mere()\n",
    "#print(type(m))\n",
    "\n",
    "f = Fille()\n",
    "print(type(f))\n",
    "print(f.attr)\n",
    "\n",
    "#g = Garcon()\n",
    "#print(type(g))"
   ]
  },
  {
   "cell_type": "code",
   "execution_count": 104,
   "id": "6d937027-68a6-487e-8048-124e1455902e",
   "metadata": {},
   "outputs": [
    {
     "data": {
      "text/plain": [
       "(True, True, False, True)"
      ]
     },
     "execution_count": 104,
     "metadata": {},
     "output_type": "execute_result"
    }
   ],
   "source": [
    "isinstance(f, Fille), isinstance(f, Mere), isinstance(f, Garcon), isinstance(f, GranMere)"
   ]
  },
  {
   "cell_type": "code",
   "execution_count": 105,
   "id": "91e1fa81-83a1-47f4-8697-dcad219f36ee",
   "metadata": {},
   "outputs": [
    {
     "data": {
      "text/plain": [
       "(__main__.Fille,\n",
       " __main__.Pere,\n",
       " __main__.GrandPere,\n",
       " __main__.Mere,\n",
       " __main__.GranMere,\n",
       " object)"
      ]
     },
     "execution_count": 105,
     "metadata": {},
     "output_type": "execute_result"
    }
   ],
   "source": [
    "Fille.__mro__"
   ]
  },
  {
   "cell_type": "code",
   "execution_count": 101,
   "id": "575c055e-d993-4ac6-b154-71f431168396",
   "metadata": {},
   "outputs": [
    {
     "ename": "SyntaxError",
     "evalue": "invalid syntax (2574433432.py, line 1)",
     "output_type": "error",
     "traceback": [
      "\u001b[0;36m  Cell \u001b[0;32mIn[101], line 1\u001b[0;36m\u001b[0m\n\u001b[0;31m    f.ma_methode() <=> type(f).ma_methode(f)\u001b[0m\n\u001b[0m                     ^\u001b[0m\n\u001b[0;31mSyntaxError\u001b[0m\u001b[0;31m:\u001b[0m invalid syntax\n"
     ]
    }
   ],
   "source": [
    "f.ma_methode() <=> type(f).ma_methode(f)"
   ]
  },
  {
   "cell_type": "code",
   "execution_count": 122,
   "id": "5b92a766-6665-4d15-813b-2da7e49b1951",
   "metadata": {},
   "outputs": [],
   "source": [
    "from abc import ABC, abstractmethod\n",
    "\n",
    "class AbstractImprimante(ABC):\n",
    "    def __init__(self):\n",
    "        print(\"je suis installée\")\n",
    "\n",
    "    @abstractmethod\n",
    "    def print(self):\n",
    "        print(\"je commence à imprimer\")\n",
    "\n",
    "\n",
    "class ImprimanteLaser(AbstractImprimante):\n",
    "    def print(self):\n",
    "        super().print()\n",
    "        print(\"j'imprime au laser\")\n",
    "\n",
    "\n",
    "class ImprimanteJetEncre(AbstractImprimante):\n",
    "    def print_en_couleur(self):\n",
    "        print(\"j'imprime en couleur\")"
   ]
  },
  {
   "cell_type": "code",
   "execution_count": 120,
   "id": "138cf56a-1829-495c-b565-ebd091ff7db1",
   "metadata": {},
   "outputs": [],
   "source": [
    "# i = AbstractImprimante() # ça va crasher avec un TpasypeError"
   ]
  },
  {
   "cell_type": "code",
   "execution_count": 121,
   "id": "be30245d-9a6a-4f42-b7b5-fa9d731a5390",
   "metadata": {},
   "outputs": [
    {
     "name": "stdout",
     "output_type": "stream",
     "text": [
      "je suis installée\n",
      "je commence à imprimer\n",
      "j'imprime au laser\n"
     ]
    }
   ],
   "source": [
    "il = ImprimanteLaser()\n",
    "il.print()"
   ]
  },
  {
   "cell_type": "code",
   "execution_count": 123,
   "id": "51e64e03-cec0-41d2-937b-c36cbc037b59",
   "metadata": {},
   "outputs": [
    {
     "ename": "TypeError",
     "evalue": "Can't instantiate abstract class ImprimanteJetEncre without an implementation for abstract method 'print'",
     "output_type": "error",
     "traceback": [
      "\u001b[0;31m---------------------------------------------------------------------------\u001b[0m",
      "\u001b[0;31mTypeError\u001b[0m                                 Traceback (most recent call last)",
      "Cell \u001b[0;32mIn[123], line 1\u001b[0m\n\u001b[0;32m----> 1\u001b[0m ije \u001b[38;5;241m=\u001b[39m \u001b[43mImprimanteJetEncre\u001b[49m\u001b[43m(\u001b[49m\u001b[43m)\u001b[49m\n",
      "\u001b[0;31mTypeError\u001b[0m: Can't instantiate abstract class ImprimanteJetEncre without an implementation for abstract method 'print'"
     ]
    }
   ],
   "source": [
    "ije = ImprimanteJetEncre()"
   ]
  },
  {
   "cell_type": "code",
   "execution_count": 129,
   "id": "35654c3e-a926-4cec-8541-2131e936e83a",
   "metadata": {},
   "outputs": [],
   "source": [
    "ImprimanteLaserBis = type(il)"
   ]
  },
  {
   "cell_type": "code",
   "execution_count": 130,
   "id": "15d7fbea-171b-4a1b-a7b5-01e9228eec51",
   "metadata": {},
   "outputs": [
    {
     "name": "stdout",
     "output_type": "stream",
     "text": [
      "je suis installée\n"
     ]
    },
    {
     "data": {
      "text/plain": [
       "<__main__.ImprimanteLaser at 0x113c23830>"
      ]
     },
     "execution_count": 130,
     "metadata": {},
     "output_type": "execute_result"
    }
   ],
   "source": [
    "ImprimanteLaserBis()"
   ]
  },
  {
   "cell_type": "code",
   "execution_count": 131,
   "id": "08ca5ee0-ff94-444a-8902-4a20853ddc66",
   "metadata": {},
   "outputs": [
    {
     "name": "stdout",
     "output_type": "stream",
     "text": [
      "<class '__main__.Exemple'> <class 'type'>\n",
      "6\n"
     ]
    }
   ],
   "source": [
    "class Exemple(): \n",
    "    variable_de_classe = 1\n",
    "    \n",
    "    @classmethod\n",
    "    def methode_de_classe(cls, param): \n",
    "        print(cls, type(cls))\n",
    "        return cls.variable_de_classe + param\n",
    "\n",
    "print(Exemple.methode_de_classe(5))"
   ]
  },
  {
   "cell_type": "code",
   "execution_count": null,
   "id": "4749f645-bace-4842-a362-7508fd51e9b0",
   "metadata": {},
   "outputs": [],
   "source": []
  },
  {
   "cell_type": "code",
   "execution_count": null,
   "id": "cb8fd246-517b-4e24-8986-128b9427720f",
   "metadata": {},
   "outputs": [],
   "source": []
  }
 ],
 "metadata": {
  "kernelspec": {
   "display_name": "Python 3 (ipykernel)",
   "language": "python",
   "name": "python3"
  },
  "language_info": {
   "codemirror_mode": {
    "name": "ipython",
    "version": 3
   },
   "file_extension": ".py",
   "mimetype": "text/x-python",
   "name": "python",
   "nbconvert_exporter": "python",
   "pygments_lexer": "ipython3",
   "version": "3.12.2"
  }
 },
 "nbformat": 4,
 "nbformat_minor": 5
}
