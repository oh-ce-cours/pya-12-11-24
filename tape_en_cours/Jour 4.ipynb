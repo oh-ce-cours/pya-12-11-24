{
 "cells": [
  {
   "cell_type": "markdown",
   "id": "eab368e2-2250-4dd3-abd2-18d0824ad2ed",
   "metadata": {},
   "source": [
    "# Multiprocessing \n",
    "\n",
    "\n",
    "# POO \n",
    "\n",
    "* duck typing\n",
    "* méthodes magiques (`__*__`)\n",
    "* classes abstraites / concretes\n",
    "* properties (encapsulation)\n",
    "* héritage (et héritage multiple) => surcharge et `super`\n",
    "* méthodes statiques / méthodes de classes\n",
    "\n",
    "# Autres \n",
    "\n",
    "* pyinstaller "
   ]
  },
  {
   "cell_type": "code",
   "execution_count": 2,
   "id": "4b3a770c-cf30-43b6-a94a-d1bce256c70b",
   "metadata": {},
   "outputs": [
    {
     "name": "stdout",
     "output_type": "stream",
     "text": [
      "0\n",
      "1\n",
      "2\n",
      "3\n",
      "4\n"
     ]
    }
   ],
   "source": [
    "def f():\n",
    "    #for i in range(5):\n",
    "    #    yield i \n",
    "    yield from range(5)\n",
    "\n",
    "for elem in f():\n",
    "    print(elem)"
   ]
  },
  {
   "cell_type": "code",
   "execution_count": 6,
   "id": "34be2945-2cd8-4cc6-8c94-b0eeb6c58f78",
   "metadata": {},
   "outputs": [
    {
     "name": "stdout",
     "output_type": "stream",
     "text": [
      "[5, 6, 7, 8, 9]\n",
      "deque([5, 6, 7, 8, 9], maxlen=5)\n",
      "deque(['\\n', '\\n', 'f = deco(f)\\n', '# print(f(param=\"toto\"))\\n', '# g()\\n'], maxlen=5)\n"
     ]
    }
   ],
   "source": [
    "import collections \n",
    "\n",
    "print(list(range(10))[-5:])\n",
    "print(collections.deque(range(10), 5))\n",
    "print(collections.deque(open(\"./decorator.py\"), 5))"
   ]
  },
  {
   "cell_type": "markdown",
   "id": "a7f924d0-eb4f-486d-8091-6f2199d3c4f3",
   "metadata": {},
   "source": [
    "# POO"
   ]
  },
  {
   "cell_type": "code",
   "execution_count": 14,
   "id": "43927203-06af-4b6c-8033-d240f020878b",
   "metadata": {},
   "outputs": [
    {
     "name": "stdout",
     "output_type": "stream",
     "text": [
      "4629994272\n",
      "4629994272\n",
      "toto\n",
      "toto\n"
     ]
    }
   ],
   "source": [
    "class Example:\n",
    "    def __init__(self):\n",
    "        print(id(self))\n",
    "        self.toto = \"toto\"\n",
    "        \n",
    "    def present(self):\n",
    "        print(self.toto)\n",
    "\n",
    "e = Example()\n",
    "print(id(e))\n",
    "e.toto = \"toto\"\n",
    "print(e.toto)\n",
    "e.present()"
   ]
  },
  {
   "cell_type": "code",
   "execution_count": 44,
   "id": "303e0f5d-8fb8-4f50-a5b2-b46ee766d2ba",
   "metadata": {},
   "outputs": [
    {
     "name": "stdout",
     "output_type": "stream",
     "text": [
      "dans private\n"
     ]
    }
   ],
   "source": [
    "class Personne:\n",
    "    def __init__(self, age, prenom):\n",
    "        self.__age = age\n",
    "        self.prenom = prenom \n",
    "\n",
    "    def get_age(self):\n",
    "        print(\"get age\")\n",
    "        return self.__age\n",
    "\n",
    "    def set_age(self, new_value):\n",
    "        print(\"joyeux anniversaire\")\n",
    "        self.__age = new_value\n",
    "\n",
    "    age = property(get_age, set_age)\n",
    "\n",
    "\n",
    "class Personne:\n",
    "    def __init__(self, age, prenom):\n",
    "        self.__age = age\n",
    "        self.prenom = prenom \n",
    "        self.__private()\n",
    "\n",
    "    @property\n",
    "    def age(self):\n",
    "        print(\"get age\")\n",
    "        return self.__age\n",
    "\n",
    "    @age.setter\n",
    "    def age(self, new_value):\n",
    "        print(\"joyeux anniversaire\")\n",
    "        self.__age = new_value\n",
    "\n",
    "    def __private(self):\n",
    "        print(\"dans private\")\n",
    "\n",
    "p = Personne(32, \"Matthieu\")"
   ]
  },
  {
   "cell_type": "code",
   "execution_count": 51,
   "id": "c9ed1d81-7ffa-4742-a7d9-9b3f3130f259",
   "metadata": {},
   "outputs": [
    {
     "name": "stdout",
     "output_type": "stream",
     "text": [
      "dans private\n",
      "get age\n",
      "32 Matthieu\n",
      "joyeux anniversaire\n",
      "get age\n",
      "33 Matthieu\n"
     ]
    }
   ],
   "source": [
    "p = Personne(32, \"Matthieu\")\n",
    "print(p.age, p.prenom)\n",
    "p.age = 33\n",
    "print(p.age, p.prenom)"
   ]
  },
  {
   "cell_type": "code",
   "execution_count": 34,
   "id": "fedaa484-d8fd-484c-9e75-4dceec157615",
   "metadata": {},
   "outputs": [
    {
     "data": {
      "text/plain": [
       "['_Personne__age',\n",
       " '__class__',\n",
       " '__delattr__',\n",
       " '__dict__',\n",
       " '__dir__',\n",
       " '__doc__',\n",
       " '__eq__',\n",
       " '__format__',\n",
       " '__ge__',\n",
       " '__getattribute__',\n",
       " '__getstate__',\n",
       " '__gt__',\n",
       " '__hash__',\n",
       " '__init__',\n",
       " '__init_subclass__',\n",
       " '__le__',\n",
       " '__lt__',\n",
       " '__module__',\n",
       " '__ne__',\n",
       " '__new__',\n",
       " '__reduce__',\n",
       " '__reduce_ex__',\n",
       " '__repr__',\n",
       " '__setattr__',\n",
       " '__sizeof__',\n",
       " '__str__',\n",
       " '__subclasshook__',\n",
       " '__weakref__',\n",
       " 'get_age',\n",
       " 'prenom',\n",
       " 'set_age']"
      ]
     },
     "execution_count": 34,
     "metadata": {},
     "output_type": "execute_result"
    }
   ],
   "source": [
    "dir(p)"
   ]
  },
  {
   "cell_type": "code",
   "execution_count": 37,
   "id": "62b7a8d7-8dcf-4c6d-8ac1-fcae65a9abdd",
   "metadata": {},
   "outputs": [
    {
     "data": {
      "text/plain": [
       "\u001b[0;31mInit signature:\u001b[0m \u001b[0mproperty\u001b[0m\u001b[0;34m(\u001b[0m\u001b[0mfget\u001b[0m\u001b[0;34m=\u001b[0m\u001b[0;32mNone\u001b[0m\u001b[0;34m,\u001b[0m \u001b[0mfset\u001b[0m\u001b[0;34m=\u001b[0m\u001b[0;32mNone\u001b[0m\u001b[0;34m,\u001b[0m \u001b[0mfdel\u001b[0m\u001b[0;34m=\u001b[0m\u001b[0;32mNone\u001b[0m\u001b[0;34m,\u001b[0m \u001b[0mdoc\u001b[0m\u001b[0;34m=\u001b[0m\u001b[0;32mNone\u001b[0m\u001b[0;34m)\u001b[0m\u001b[0;34m\u001b[0m\u001b[0;34m\u001b[0m\u001b[0m\n",
       "\u001b[0;31mDocstring:\u001b[0m     \n",
       "Property attribute.\n",
       "\n",
       "  fget\n",
       "    function to be used for getting an attribute value\n",
       "  fset\n",
       "    function to be used for setting an attribute value\n",
       "  fdel\n",
       "    function to be used for del'ing an attribute\n",
       "  doc\n",
       "    docstring\n",
       "\n",
       "Typical use is to define a managed attribute x:\n",
       "\n",
       "class C(object):\n",
       "    def getx(self): return self._x\n",
       "    def setx(self, value): self._x = value\n",
       "    def delx(self): del self._x\n",
       "    x = property(getx, setx, delx, \"I'm the 'x' property.\")\n",
       "\n",
       "Decorators make defining new properties or modifying existing ones easy:\n",
       "\n",
       "class C(object):\n",
       "    @property\n",
       "    def x(self):\n",
       "        \"I am the 'x' property.\"\n",
       "        return self._x\n",
       "    @x.setter\n",
       "    def x(self, value):\n",
       "        self._x = value\n",
       "    @x.deleter\n",
       "    def x(self):\n",
       "        del self._x\n",
       "\u001b[0;31mType:\u001b[0m           type\n",
       "\u001b[0;31mSubclasses:\u001b[0m     abstractproperty"
      ]
     },
     "metadata": {},
     "output_type": "display_data"
    }
   ],
   "source": [
    "property?"
   ]
  },
  {
   "cell_type": "code",
   "execution_count": 63,
   "id": "64cb936e-691c-408f-95e5-46f5ccd013b2",
   "metadata": {},
   "outputs": [
    {
     "name": "stdout",
     "output_type": "stream",
     "text": [
      "dans public\n",
      "dans protected\n",
      "dans public\n",
      "dans protected\n"
     ]
    }
   ],
   "source": [
    "class Demo:\n",
    "    def __init__(self):\n",
    "        self.__age = 12\n",
    "\n",
    "    def __private(self):\n",
    "        print(\"dans private\")\n",
    "\n",
    "    def _protected(self):\n",
    "        print(\"dans protected\")\n",
    "\n",
    "    def public(self):\n",
    "        print(\"dans public\")\n",
    "\n",
    "class DemoFille(Demo):\n",
    "    def __init__(self):\n",
    "        self.public()\n",
    "        self._protected()\n",
    "        #self.__private()\n",
    "\n",
    "df = DemoFille()\n",
    "df.public()\n",
    "df._protected()"
   ]
  },
  {
   "cell_type": "code",
   "execution_count": 64,
   "id": "6f217d7c-6abd-4b59-9dd8-544317b75b99",
   "metadata": {},
   "outputs": [
    {
     "name": "stdout",
     "output_type": "stream",
     "text": [
      "getattribute mais_ca_nedoit_pas_exister\n"
     ]
    },
    {
     "data": {
      "text/plain": [
       "3"
      ]
     },
     "execution_count": 64,
     "metadata": {},
     "output_type": "execute_result"
    }
   ],
   "source": [
    "class GetAttributeDemo:\n",
    "    def __getattribute__(self, attr_name): \n",
    "        print(\"getattribute\", attr_name) \n",
    "        return 3\n",
    "\n",
    "gad = GetAttributeDemo()\n",
    "gad.mais_ca_nedoit_pas_exister"
   ]
  },
  {
   "cell_type": "code",
   "execution_count": 65,
   "id": "bda3fc5a-a963-4010-b0e3-6de333dc9737",
   "metadata": {},
   "outputs": [],
   "source": [
    "class Mere:\n",
    "    def __init__(self):\n",
    "        self.attr = \"attribut de mere\"\n",
    "        print(\"dans mere\")\n",
    "\n",
    "    def ma_methode(self):\n",
    "        print(\"dans \n",
    "\n",
    "class Fille(Mere):\n",
    "    pass \n",
    "\n",
    "class Garcon(Mere):\n",
    "    "
   ]
  },
  {
   "cell_type": "code",
   "execution_count": null,
   "id": "7de25e1e-95c2-4b27-b1b7-0df73202a59a",
   "metadata": {},
   "outputs": [],
   "source": []
  }
 ],
 "metadata": {
  "kernelspec": {
   "display_name": "Python 3 (ipykernel)",
   "language": "python",
   "name": "python3"
  },
  "language_info": {
   "codemirror_mode": {
    "name": "ipython",
    "version": 3
   },
   "file_extension": ".py",
   "mimetype": "text/x-python",
   "name": "python",
   "nbconvert_exporter": "python",
   "pygments_lexer": "ipython3",
   "version": "3.12.2"
  }
 },
 "nbformat": 4,
 "nbformat_minor": 5
}
