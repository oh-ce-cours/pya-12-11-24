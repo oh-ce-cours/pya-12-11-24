{
 "cells": [
  {
   "cell_type": "code",
   "execution_count": null,
   "id": "c9972868-694c-49e4-a8ba-a1043cd0b49b",
   "metadata": {},
   "outputs": [],
   "source": []
  }
 ],
 "metadata": {
  "kernelspec": {
   "display_name": "",
   "name": ""
  },
  "language_info": {
   "name": ""
  }
 },
 "nbformat": 4,
 "nbformat_minor": 5
}
