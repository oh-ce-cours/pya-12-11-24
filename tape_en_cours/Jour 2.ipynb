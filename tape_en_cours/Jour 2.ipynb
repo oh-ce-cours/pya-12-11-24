{
 "cells": [
  {
   "cell_type": "markdown",
   "id": "497610fa-02e7-4d6c-9b3e-fe61db7371c9",
   "metadata": {},
   "source": [
    "# Résumé matin \n",
    "\n",
    "* test unitaires\n",
    "    * fonctions pures : les sorties dépendent uniquement des entrées\n",
    "    * si on a une fonction qui n'est pas pure\n",
    "        * on peut `mocker` la partie impure\n",
    "        * on peut enregistrer les entrées / sorties\n",
    "    * les tests doivent être indépendants les uns des autres (on peut pas garantir d'ordre d'exécution)\n",
    "    * pytest\n",
    "        * `parametrize` (exécuter le même test plusieurs fois avec des paramètres et des résultats différents)\n",
    "        * `fixture` permet\n",
    "        *  de configurer la partie \"arange\" des tests (créer des ressources qui seront détruites à la fin du test)\n",
    "    *  permet d'avoir une plus grande confiance dans notre refactoring (remettre au propre votre code)\n",
    "* les différents types de conteneurs en python\n",
    "* les motions d'imports en python\n",
    "    * `from module import un_truc` va exécuter tout le module\n",
    "    * pour éviter l'excécution lors d'un import, il faut utiliser la construction `__name__ == __main__`"
   ]
  },
  {
   "cell_type": "code",
   "execution_count": 1,
   "id": "dfa7e1e4-879c-43c7-bce6-cd35a3d47411",
   "metadata": {},
   "outputs": [
    {
     "name": "stdout",
     "output_type": "stream",
     "text": [
      "The Zen of Python, by Tim Peters\n",
      "\n",
      "Beautiful is better than ugly.\n",
      "Explicit is better than implicit.\n",
      "Simple is better than complex.\n",
      "Complex is better than complicated.\n",
      "Flat is better than nested.\n",
      "Sparse is better than dense.\n",
      "Readability counts.\n",
      "Special cases aren't special enough to break the rules.\n",
      "Although practicality beats purity.\n",
      "Errors should never pass silently.\n",
      "Unless explicitly silenced.\n",
      "In the face of ambiguity, refuse the temptation to guess.\n",
      "There should be one-- and preferably only one --obvious way to do it.\n",
      "Although that way may not be obvious at first unless you're Dutch.\n",
      "Now is better than never.\n",
      "Although never is often better than *right* now.\n",
      "If the implementation is hard to explain, it's a bad idea.\n",
      "If the implementation is easy to explain, it may be a good idea.\n",
      "Namespaces are one honking great idea -- let's do more of those!\n"
     ]
    }
   ],
   "source": [
    "import this"
   ]
  },
  {
   "cell_type": "code",
   "execution_count": 3,
   "id": "3e5e4043-ae40-4e56-ae46-deba67703293",
   "metadata": {},
   "outputs": [],
   "source": [
    "import antigravity"
   ]
  },
  {
   "cell_type": "code",
   "execution_count": 5,
   "id": "45820918-99bf-48c8-9a30-cd8b421f73b0",
   "metadata": {},
   "outputs": [
    {
     "data": {
      "text/plain": [
       "False"
      ]
     },
     "execution_count": 5,
     "metadata": {},
     "output_type": "execute_result"
    }
   ],
   "source": [
    "import time\n",
    "\n",
    "a = list(range(100_000))\n",
    "\n",
    "\n",
    "for _ in range(10):\n",
    "    -1 in a \n"
   ]
  },
  {
   "cell_type": "code",
   "execution_count": 7,
   "id": "7076a45a-eafd-4830-b41a-b659133ba0d8",
   "metadata": {},
   "outputs": [
    {
     "data": {
      "text/plain": [
       "1731503839.775143"
      ]
     },
     "execution_count": 7,
     "metadata": {},
     "output_type": "execute_result"
    }
   ],
   "source": [
    "import time \n",
    "time.time()"
   ]
  },
  {
   "cell_type": "code",
   "execution_count": 8,
   "id": "32e936f7-b740-445d-b640-4a3075204685",
   "metadata": {},
   "outputs": [
    {
     "data": {
      "text/plain": [
       "1731503846.027128"
      ]
     },
     "execution_count": 8,
     "metadata": {},
     "output_type": "execute_result"
    }
   ],
   "source": [
    "time.time()"
   ]
  },
  {
   "cell_type": "code",
   "execution_count": 9,
   "id": "54a8339a-018b-40ff-bc1c-9c8d607ee59d",
   "metadata": {},
   "outputs": [
    {
     "name": "stdout",
     "output_type": "stream",
     "text": [
      "Help on built-in function time in module time:\n",
      "\n",
      "time(...)\n",
      "    time() -> floating point number\n",
      "\n",
      "    Return the current time in seconds since the Epoch.\n",
      "    Fractions of a second may be present if the system clock provides them.\n",
      "\n"
     ]
    }
   ],
   "source": [
    "help(time.time)"
   ]
  },
  {
   "cell_type": "code",
   "execution_count": 13,
   "id": "ac9a859a-768c-4d14-a5da-dabc9c7b1574",
   "metadata": {},
   "outputs": [
    {
     "data": {
      "text/plain": [
       "{0: 0,\n",
       " 1: 0,\n",
       " 2: 0,\n",
       " 3: 0,\n",
       " 4: 0,\n",
       " 5: 0,\n",
       " 6: 0,\n",
       " 7: 0,\n",
       " 8: 0,\n",
       " 9: 0,\n",
       " 10: 0,\n",
       " 11: 0,\n",
       " 12: 0,\n",
       " 13: 0,\n",
       " 14: 0,\n",
       " 15: 0,\n",
       " 16: 0,\n",
       " 17: 0,\n",
       " 18: 0,\n",
       " 19: 0,\n",
       " 20: 0,\n",
       " 21: 0,\n",
       " 22: 0,\n",
       " 23: 0,\n",
       " 24: 0,\n",
       " 25: 0,\n",
       " 26: 0,\n",
       " 27: 0,\n",
       " 28: 0,\n",
       " 29: 0,\n",
       " 30: 0,\n",
       " 31: 0,\n",
       " 32: 0,\n",
       " 33: 0,\n",
       " 34: 0,\n",
       " 35: 0,\n",
       " 36: 0,\n",
       " 37: 0,\n",
       " 38: 0,\n",
       " 39: 0,\n",
       " 40: 0,\n",
       " 41: 0,\n",
       " 42: 0,\n",
       " 43: 0,\n",
       " 44: 0,\n",
       " 45: 0,\n",
       " 46: 0,\n",
       " 47: 0,\n",
       " 48: 0,\n",
       " 49: 0,\n",
       " 50: 0,\n",
       " 51: 0,\n",
       " 52: 0,\n",
       " 53: 0,\n",
       " 54: 0,\n",
       " 55: 0,\n",
       " 56: 0,\n",
       " 57: 0,\n",
       " 58: 0,\n",
       " 59: 0,\n",
       " 60: 0,\n",
       " 61: 0,\n",
       " 62: 0,\n",
       " 63: 0,\n",
       " 64: 0,\n",
       " 65: 0,\n",
       " 66: 0,\n",
       " 67: 0,\n",
       " 68: 0,\n",
       " 69: 0,\n",
       " 70: 0,\n",
       " 71: 0,\n",
       " 72: 0,\n",
       " 73: 0,\n",
       " 74: 0,\n",
       " 75: 0,\n",
       " 76: 0,\n",
       " 77: 0,\n",
       " 78: 0,\n",
       " 79: 0,\n",
       " 80: 0,\n",
       " 81: 0,\n",
       " 82: 0,\n",
       " 83: 0,\n",
       " 84: 0,\n",
       " 85: 0,\n",
       " 86: 0,\n",
       " 87: 0,\n",
       " 88: 0,\n",
       " 89: 0,\n",
       " 90: 0,\n",
       " 91: 0,\n",
       " 92: 0,\n",
       " 93: 0,\n",
       " 94: 0,\n",
       " 95: 0,\n",
       " 96: 0,\n",
       " 97: 0,\n",
       " 98: 0,\n",
       " 99: 0}"
      ]
     },
     "execution_count": 13,
     "metadata": {},
     "output_type": "execute_result"
    }
   ],
   "source": [
    "{i: 0 for i in range(100)}"
   ]
  },
  {
   "cell_type": "code",
   "execution_count": 14,
   "id": "1ccf9136-87b1-40a7-a0cc-518dd941a147",
   "metadata": {},
   "outputs": [
    {
     "name": "stdout",
     "output_type": "stream",
     "text": [
      "[0, 10, 20, 30, 40, 50, 60, 70, 80, 90]\n"
     ]
    }
   ],
   "source": [
    "nombres = []\n",
    "for i in range(10):\n",
    "    nombres.append(i * 10)\n",
    "print(nombres)"
   ]
  },
  {
   "cell_type": "code",
   "execution_count": 16,
   "id": "d55b9f11-6fca-4781-923f-781eb71a69ed",
   "metadata": {},
   "outputs": [
    {
     "name": "stdout",
     "output_type": "stream",
     "text": [
      "[0, 10, 20, 30, 40, 50, 60, 70, 80, 90]\n"
     ]
    }
   ],
   "source": [
    "nombres = [i * 10 for i in range(10)]\n",
    "print(nombres)"
   ]
  },
  {
   "cell_type": "code",
   "execution_count": null,
   "id": "069dd6e4-f1ba-4150-909d-1bd49c68ec95",
   "metadata": {},
   "outputs": [],
   "source": []
  }
 ],
 "metadata": {
  "kernelspec": {
   "display_name": "Python 3 (ipykernel)",
   "language": "python",
   "name": "python3"
  },
  "language_info": {
   "codemirror_mode": {
    "name": "ipython",
    "version": 3
   },
   "file_extension": ".py",
   "mimetype": "text/x-python",
   "name": "python",
   "nbconvert_exporter": "python",
   "pygments_lexer": "ipython3",
   "version": "3.12.2"
  }
 },
 "nbformat": 4,
 "nbformat_minor": 5
}
