{
 "cells": [
  {
   "cell_type": "code",
   "execution_count": null,
   "id": "e7e6c0d4-1906-480a-92d3-37f3b4bee137",
   "metadata": {},
   "outputs": [],
   "source": []
  }
 ],
 "metadata": {
  "kernelspec": {
   "display_name": "",
   "name": ""
  },
  "language_info": {
   "name": ""
  }
 },
 "nbformat": 4,
 "nbformat_minor": 5
}
