{
 "cells": [
  {
   "cell_type": "markdown",
   "id": "497610fa-02e7-4d6c-9b3e-fe61db7371c9",
   "metadata": {},
   "source": [
    "# Résumé matin \n",
    "\n",
    "* test unitaires\n",
    "    * fonctions pures : les sorties dépendent uniquement des entrées\n",
    "    * si on a une fonction qui n'est pas pure\n",
    "        * on peut `mocker` la partie impure\n",
    "        * on peut enregistrer les entrées / sorties\n",
    "    * les tests doivent être indépendants les uns des autres (on peut pas garantir d'ordre d'exécution)\n",
    "    * pytest\n",
    "        * `parametrize` (exécuter le même test plusieurs fois avec des paramètres et des résultats différents)\n",
    "        * `fixture` permet\n",
    "        *  de configurer la partie \"arange\" des tests (créer des ressources qui seront détruites à la fin du test)\n",
    "    *  permet d'avoir une plus grande confiance dans notre refactoring (remettre au propre votre code)\n",
    "* les différents types de conteneurs en python\n",
    "* les motions d'imports en python\n",
    "    * `from module import un_truc` va exécuter tout le module\n",
    "    * pour éviter l'excécution lors d'un import, il faut utiliser la construction `__name__ == __main__`"
   ]
  },
  {
   "cell_type": "code",
   "execution_count": 1,
   "id": "dfa7e1e4-879c-43c7-bce6-cd35a3d47411",
   "metadata": {},
   "outputs": [
    {
     "name": "stdout",
     "output_type": "stream",
     "text": [
      "The Zen of Python, by Tim Peters\n",
      "\n",
      "Beautiful is better than ugly.\n",
      "Explicit is better than implicit.\n",
      "Simple is better than complex.\n",
      "Complex is better than complicated.\n",
      "Flat is better than nested.\n",
      "Sparse is better than dense.\n",
      "Readability counts.\n",
      "Special cases aren't special enough to break the rules.\n",
      "Although practicality beats purity.\n",
      "Errors should never pass silently.\n",
      "Unless explicitly silenced.\n",
      "In the face of ambiguity, refuse the temptation to guess.\n",
      "There should be one-- and preferably only one --obvious way to do it.\n",
      "Although that way may not be obvious at first unless you're Dutch.\n",
      "Now is better than never.\n",
      "Although never is often better than *right* now.\n",
      "If the implementation is hard to explain, it's a bad idea.\n",
      "If the implementation is easy to explain, it may be a good idea.\n",
      "Namespaces are one honking great idea -- let's do more of those!\n"
     ]
    }
   ],
   "source": [
    "import this"
   ]
  },
  {
   "cell_type": "code",
   "execution_count": 3,
   "id": "3e5e4043-ae40-4e56-ae46-deba67703293",
   "metadata": {},
   "outputs": [],
   "source": [
    "import antigravity"
   ]
  },
  {
   "cell_type": "code",
   "execution_count": 5,
   "id": "45820918-99bf-48c8-9a30-cd8b421f73b0",
   "metadata": {},
   "outputs": [
    {
     "data": {
      "text/plain": [
       "False"
      ]
     },
     "execution_count": 5,
     "metadata": {},
     "output_type": "execute_result"
    }
   ],
   "source": [
    "import time\n",
    "\n",
    "a = list(range(100_000))\n",
    "\n",
    "\n",
    "for _ in range(10):\n",
    "    -1 in a \n"
   ]
  },
  {
   "cell_type": "code",
   "execution_count": 7,
   "id": "7076a45a-eafd-4830-b41a-b659133ba0d8",
   "metadata": {},
   "outputs": [
    {
     "data": {
      "text/plain": [
       "1731503839.775143"
      ]
     },
     "execution_count": 7,
     "metadata": {},
     "output_type": "execute_result"
    }
   ],
   "source": [
    "import time \n",
    "time.time()"
   ]
  },
  {
   "cell_type": "code",
   "execution_count": 8,
   "id": "32e936f7-b740-445d-b640-4a3075204685",
   "metadata": {},
   "outputs": [
    {
     "data": {
      "text/plain": [
       "1731503846.027128"
      ]
     },
     "execution_count": 8,
     "metadata": {},
     "output_type": "execute_result"
    }
   ],
   "source": [
    "time.time()"
   ]
  },
  {
   "cell_type": "code",
   "execution_count": 9,
   "id": "54a8339a-018b-40ff-bc1c-9c8d607ee59d",
   "metadata": {},
   "outputs": [
    {
     "name": "stdout",
     "output_type": "stream",
     "text": [
      "Help on built-in function time in module time:\n",
      "\n",
      "time(...)\n",
      "    time() -> floating point number\n",
      "\n",
      "    Return the current time in seconds since the Epoch.\n",
      "    Fractions of a second may be present if the system clock provides them.\n",
      "\n"
     ]
    }
   ],
   "source": [
    "help(time.time)"
   ]
  },
  {
   "cell_type": "code",
   "execution_count": 17,
   "id": "ac9a859a-768c-4d14-a5da-dabc9c7b1574",
   "metadata": {},
   "outputs": [
    {
     "data": {
      "text/plain": [
       "{0: 0, 1: 0, 2: 0, 3: 0, 4: 0, 5: 0, 6: 0, 7: 0, 8: 0, 9: 0}"
      ]
     },
     "execution_count": 17,
     "metadata": {},
     "output_type": "execute_result"
    }
   ],
   "source": [
    "{i: 0 for i in range(10)}"
   ]
  },
  {
   "cell_type": "code",
   "execution_count": 14,
   "id": "1ccf9136-87b1-40a7-a0cc-518dd941a147",
   "metadata": {},
   "outputs": [
    {
     "name": "stdout",
     "output_type": "stream",
     "text": [
      "[0, 10, 20, 30, 40, 50, 60, 70, 80, 90]\n"
     ]
    }
   ],
   "source": [
    "nombres = []\n",
    "for i in range(10):\n",
    "    nombres.append(i * 10)\n",
    "print(nombres)"
   ]
  },
  {
   "cell_type": "code",
   "execution_count": 16,
   "id": "d55b9f11-6fca-4781-923f-781eb71a69ed",
   "metadata": {},
   "outputs": [
    {
     "name": "stdout",
     "output_type": "stream",
     "text": [
      "[0, 10, 20, 30, 40, 50, 60, 70, 80, 90]\n"
     ]
    }
   ],
   "source": [
    "nombres = [i * 10 for i in range(10)]\n",
    "print(nombres)"
   ]
  },
  {
   "cell_type": "code",
   "execution_count": 35,
   "id": "069dd6e4-f1ba-4150-909d-1bd49c68ec95",
   "metadata": {},
   "outputs": [
    {
     "name": "stdout",
     "output_type": "stream",
     "text": [
      "{'list': [], 'dict': [], 'set': [], 'tuple': []}\n",
      "{'list': [0.27582287788391113], 'dict': [1.811981201171875e-05], 'set': [1.3828277587890625e-05], 'tuple': [0.24502182006835938]}\n",
      "{'list': [0.27582287788391113, 0.2483079433441162], 'dict': [1.811981201171875e-05, 1.4066696166992188e-05], 'set': [1.3828277587890625e-05, 1.1920928955078125e-05], 'tuple': [0.24502182006835938, 0.2513160705566406]}\n",
      "{'list': [0.27582287788391113, 0.2483079433441162, 0.25484180450439453], 'dict': [1.811981201171875e-05, 1.4066696166992188e-05, 1.4066696166992188e-05], 'set': [1.3828277587890625e-05, 1.1920928955078125e-05, 1.1682510375976562e-05], 'tuple': [0.24502182006835938, 0.2513160705566406, 0.24210309982299805]}\n",
      "{'list': [0.27582287788391113, 0.2483079433441162, 0.25484180450439453, 0.2811272144317627], 'dict': [1.811981201171875e-05, 1.4066696166992188e-05, 1.4066696166992188e-05, 1.4781951904296875e-05], 'set': [1.3828277587890625e-05, 1.1920928955078125e-05, 1.1682510375976562e-05, 1.3113021850585938e-05], 'tuple': [0.24502182006835938, 0.2513160705566406, 0.24210309982299805, 0.24670195579528809]}\n",
      "{'list': [0.27582287788391113, 0.2483079433441162, 0.25484180450439453, 0.2811272144317627, 0.2835042476654053], 'dict': [1.811981201171875e-05, 1.4066696166992188e-05, 1.4066696166992188e-05, 1.4781951904296875e-05, 1.621246337890625e-05], 'set': [1.3828277587890625e-05, 1.1920928955078125e-05, 1.1682510375976562e-05, 1.3113021850585938e-05, 1.4066696166992188e-05], 'tuple': [0.24502182006835938, 0.2513160705566406, 0.24210309982299805, 0.24670195579528809, 0.25035595893859863]}\n"
     ]
    }
   ],
   "source": [
    "def create_containers(size) -> tuple[list, dict, set, tuple]:\n",
    "    l = list(range(size))\n",
    "    d = {i: 0 for i in range(size)}\n",
    "    s = set(l)\n",
    "    t = tuple(l)\n",
    "    return l, d, s, t\n",
    "\n",
    "def measure_time(container, iterations=1_000):\n",
    "    tic = time.time()\n",
    "    for _ in range(iterations):\n",
    "        -1 in container \n",
    "    tac = time.time()\n",
    "    return tac - tic \n",
    "\n",
    "\n",
    "results = {\"list\": [], \"dict\": [], \"set\": [], \"tuple\": []}\n",
    "for size in [5, 100, 500, 5_000, 10_000, 100_000]:\n",
    "    print(results)\n",
    "    containers = create_containers(50_000)\n",
    "    for container in containers:\n",
    "        container_name = type(container).__name__\n",
    "        results[container_name].append(measure_time(container))"
   ]
  },
  {
   "cell_type": "code",
   "execution_count": 34,
   "id": "26587266-43b2-4171-8806-ad0424deae30",
   "metadata": {},
   "outputs": [
    {
     "data": {
      "text/plain": [
       "{'list': [0.28287196159362793,\n",
       "  0.2593212127685547,\n",
       "  0.2814779281616211,\n",
       "  0.2548520565032959,\n",
       "  0.25570201873779297,\n",
       "  0.2762150764465332],\n",
       " 'dict': [1.5020370483398438e-05,\n",
       "  1.4066696166992188e-05,\n",
       "  1.4066696166992188e-05,\n",
       "  1.4066696166992188e-05,\n",
       "  1.4781951904296875e-05,\n",
       "  1.3828277587890625e-05],\n",
       " 'set': [1.2874603271484375e-05,\n",
       "  1.2636184692382812e-05,\n",
       "  1.2159347534179688e-05,\n",
       "  1.1920928955078125e-05,\n",
       "  1.2159347534179688e-05,\n",
       "  1.2159347534179688e-05],\n",
       " 'tuple': [0.24390196800231934,\n",
       "  0.24025487899780273,\n",
       "  0.2466130256652832,\n",
       "  0.24561214447021484,\n",
       "  0.24102306365966797,\n",
       "  0.240462064743042]}"
      ]
     },
     "execution_count": 34,
     "metadata": {},
     "output_type": "execute_result"
    }
   ],
   "source": []
  },
  {
   "cell_type": "code",
   "execution_count": null,
   "id": "a92909b3-e647-47ec-957e-d512c0080b6e",
   "metadata": {},
   "outputs": [],
   "source": []
  }
 ],
 "metadata": {
  "kernelspec": {
   "display_name": "Python 3 (ipykernel)",
   "language": "python",
   "name": "python3"
  },
  "language_info": {
   "codemirror_mode": {
    "name": "ipython",
    "version": 3
   },
   "file_extension": ".py",
   "mimetype": "text/x-python",
   "name": "python",
   "nbconvert_exporter": "python",
   "pygments_lexer": "ipython3",
   "version": "3.12.2"
  }
 },
 "nbformat": 4,
 "nbformat_minor": 5
}
