{
 "cells": [
  {
   "cell_type": "markdown",
   "id": "497610fa-02e7-4d6c-9b3e-fe61db7371c9",
   "metadata": {},
   "source": [
    "# Résumé matin \n",
    "\n",
    "* test unitaires\n",
    "    * fonctions pures : les sorties dépendent uniquement des entrées\n",
    "    * si on a une fonction qui n'est pas pure\n",
    "        * on peut `mocker` la partie impure\n",
    "        * on peut enregistrer les entrées / sorties\n",
    "    * les tests doivent être indépendants les uns des autres (on peut pas garantir d'ordre d'exécution)\n",
    "    * pytest\n",
    "        * `parametrize` (exécuter le même test plusieurs fois avec des paramètres et des résultats différents)\n",
    "        * `fixture` permet\n",
    "        *  de configurer la partie \"arange\" des tests (créer des ressources qui seront détruites à la fin du test)\n",
    "    *  permet d'avoir une plus grande confiance dans notre refactoring (remettre au propre votre code)\n",
    "    *  "
   ]
  },
  {
   "cell_type": "code",
   "execution_count": null,
   "id": "dfa7e1e4-879c-43c7-bce6-cd35a3d47411",
   "metadata": {},
   "outputs": [],
   "source": []
  }
 ],
 "metadata": {
  "kernelspec": {
   "display_name": "Python 3 (ipykernel)",
   "language": "python",
   "name": "python3"
  },
  "language_info": {
   "codemirror_mode": {
    "name": "ipython",
    "version": 3
   },
   "file_extension": ".py",
   "mimetype": "text/x-python",
   "name": "python",
   "nbconvert_exporter": "python",
   "pygments_lexer": "ipython3",
   "version": "3.12.2"
  }
 },
 "nbformat": 4,
 "nbformat_minor": 5
}
