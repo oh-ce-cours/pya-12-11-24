{
 "cells": [
  {
   "cell_type": "markdown",
   "id": "b5645d8b-ea4b-4081-b69f-cb95efbe6ea9",
   "metadata": {},
   "source": [
    "# Jour 1\n",
    "\n",
    "## Matin \n",
    "\n",
    "* PEP (Python Enhancement Proposal)\n",
    "    * PEP 8 (formatage et bonnes pratiques des conventions de nommage) \n",
    "* interpréteurs python\n",
    "    * cpython (écrit en C)\n",
    "        * notion de `jit`\n",
    "        * notion de `GIL`\n",
    "    * pypy (écrit en python) => plus rapide que cPython car possède un `jit`\n",
    "* shells [REPL](https://en.wikipedia.org/wiki/Read%E2%80%93eval%E2%80%93print_loop) python \n",
    "    * `python`\n",
    "    * `ipython`\n",
    "\n",
    "* environnements virtuels\n",
    "    * isoler les environnements pythons les uns des autres\n",
    "    * ça permet de traailler sur plusieurs projets (avec des dépendances / versions différentes) en parallèle\n",
    "    * cycle de vie\n",
    "        * on le crée : `python -m venv $NOM_DE_L_ENV` \n",
    "        * on l'active\n",
    "            * unix : `source $NOM_DE_L_ENV/bin/activate`\n",
    "            * windows : `$NOM_DE_L_ENV\\Scripts\\activate`\n",
    "        * on le désactive : `deactivate` / on ferme le shell \n",
    "        * on le détruit : on supprime le dossier `$NOM_DE_L_ENV`\n",
    "* installer des paquets avec pip\n",
    "    * `pip install $PAQUET1 $PAQUET2`\n",
    "    * on peut installer une autre version / mettre à jour : `pip install -U $PAQUET==1.2.3`\n",
    "* lister des dépendances à installer `requirements.txt`\n",
    "    * `pip freeze > requirements.txt`\n",
    "    * `pip install -r requirements.txt` "
   ]
  },
  {
   "cell_type": "code",
   "execution_count": 6,
   "id": "2dbd1cbd-2313-4a82-bc85-a114fe3a1693",
   "metadata": {},
   "outputs": [
    {
     "data": {
      "text/plain": [
       "\u001b[0;31mInit signature:\u001b[0m \u001b[0mrange\u001b[0m\u001b[0;34m(\u001b[0m\u001b[0mself\u001b[0m\u001b[0;34m,\u001b[0m \u001b[0;34m/\u001b[0m\u001b[0;34m,\u001b[0m \u001b[0;34m*\u001b[0m\u001b[0margs\u001b[0m\u001b[0;34m,\u001b[0m \u001b[0;34m**\u001b[0m\u001b[0mkwargs\u001b[0m\u001b[0;34m)\u001b[0m\u001b[0;34m\u001b[0m\u001b[0;34m\u001b[0m\u001b[0m\n",
       "\u001b[0;31mDocstring:\u001b[0m     \n",
       "range(stop) -> range object\n",
       "range(start, stop[, step]) -> range object\n",
       "\n",
       "Return an object that produces a sequence of integers from start (inclusive)\n",
       "to stop (exclusive) by step.  range(i, j) produces i, i+1, i+2, ..., j-1.\n",
       "start defaults to 0, and stop is omitted!  range(4) produces 0, 1, 2, 3.\n",
       "These are exactly the valid indices for a list of 4 elements.\n",
       "When step is given, it specifies the increment (or decrement).\n",
       "\u001b[0;31mType:\u001b[0m           type\n",
       "\u001b[0;31mSubclasses:\u001b[0m     "
      ]
     },
     "metadata": {},
     "output_type": "display_data"
    }
   ],
   "source": [
    "range?"
   ]
  },
  {
   "cell_type": "code",
   "execution_count": null,
   "id": "5d07e091-b242-4227-a5fd-d98bddea8579",
   "metadata": {},
   "outputs": [],
   "source": []
  }
 ],
 "metadata": {
  "kernelspec": {
   "display_name": "Python 3 (ipykernel)",
   "language": "python",
   "name": "python3"
  },
  "language_info": {
   "codemirror_mode": {
    "name": "ipython",
    "version": 3
   },
   "file_extension": ".py",
   "mimetype": "text/x-python",
   "name": "python",
   "nbconvert_exporter": "python",
   "pygments_lexer": "ipython3",
   "version": "3.12.2"
  }
 },
 "nbformat": 4,
 "nbformat_minor": 5
}
