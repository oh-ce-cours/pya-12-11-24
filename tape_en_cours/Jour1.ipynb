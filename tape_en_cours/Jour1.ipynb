{
 "cells": [
  {
   "cell_type": "markdown",
   "id": "b5645d8b-ea4b-4081-b69f-cb95efbe6ea9",
   "metadata": {},
   "source": [
    "# Jour 1\n",
    "\n",
    "## Matin \n",
    "\n",
    "* PEP (Python Enhancement Proposal)\n",
    "    * PEP 8 (formatage et bonnes pratiques des conventions de nommage) \n",
    "* interpréteurs python\n",
    "    * cpython (écrit en C)\n",
    "        * notion de `jit`\n",
    "        * notion de `GIL`\n",
    "    * pypy (écrit en python) => plus rapide que cPython car possède un `jit`\n",
    "* shells [REPL](https://en.wikipedia.org/wiki/Read%E2%80%93eval%E2%80%93print_loop) python \n",
    "    * `python`\n",
    "    * `ipython`\n",
    "\n",
    "* environnements virtuels\n",
    "    * isoler les environnements pythons les uns des autres\n",
    "    * ça permet de traailler sur plusieurs projets (avec des dépendances / versions différentes) en parallèle\n",
    "    * cycle de vie\n",
    "        * on le crée : `python -m venv $NOM_DE_L_ENV` \n",
    "        * on l'active\n",
    "            * unix : `source $NOM_DE_L_ENV/bin/activate`\n",
    "            * windows : `$NOM_DE_L_ENV\\Scripts\\activate`\n",
    "        * on le désactive : `deactivate` / on ferme le shell \n",
    "        * on le détruit : on supprime le dossier `$NOM_DE_L_ENV`\n",
    "* installer des paquets avec pip\n",
    "    * `pip install $PAQUET1 $PAQUET2`\n",
    "    * on peut installer une autre version / mettre à jour : `pip install -U $PAQUET==1.2.3`\n",
    "* lister des dépendances à installer `requirements.txt`\n",
    "    * `pip freeze > requirements.txt`\n",
    "    * `pip install -r requirements.txt` "
   ]
  },
  {
   "cell_type": "code",
   "execution_count": 9,
   "id": "2dbd1cbd-2313-4a82-bc85-a114fe3a1693",
   "metadata": {},
   "outputs": [
    {
     "data": {
      "text/plain": [
       "\u001b[0;31mInit signature:\u001b[0m \u001b[0mrange\u001b[0m\u001b[0;34m(\u001b[0m\u001b[0mself\u001b[0m\u001b[0;34m,\u001b[0m \u001b[0;34m/\u001b[0m\u001b[0;34m,\u001b[0m \u001b[0;34m*\u001b[0m\u001b[0margs\u001b[0m\u001b[0;34m,\u001b[0m \u001b[0;34m**\u001b[0m\u001b[0mkwargs\u001b[0m\u001b[0;34m)\u001b[0m\u001b[0;34m\u001b[0m\u001b[0;34m\u001b[0m\u001b[0m\n",
       "\u001b[0;31mDocstring:\u001b[0m     \n",
       "range(stop) -> range object\n",
       "range(start, stop[, step]) -> range object\n",
       "\n",
       "Return an object that produces a sequence of integers from start (inclusive)\n",
       "to stop (exclusive) by step.  range(i, j) produces i, i+1, i+2, ..., j-1.\n",
       "start defaults to 0, and stop is omitted!  range(4) produces 0, 1, 2, 3.\n",
       "These are exactly the valid indices for a list of 4 elements.\n",
       "When step is given, it specifies the increment (or decrement).\n",
       "\u001b[0;31mType:\u001b[0m           type\n",
       "\u001b[0;31mSubclasses:\u001b[0m     "
      ]
     },
     "metadata": {},
     "output_type": "display_data"
    }
   ],
   "source": [
    "range?"
   ]
  },
  {
   "cell_type": "code",
   "execution_count": 7,
   "id": "5d07e091-b242-4227-a5fd-d98bddea8579",
   "metadata": {},
   "outputs": [
    {
     "data": {
      "text/plain": [
       "[1, 5, 9, 13, 17, 21, 25, 29]"
      ]
     },
     "execution_count": 7,
     "metadata": {},
     "output_type": "execute_result"
    }
   ],
   "source": [
    "list(range(1, 30, 4))"
   ]
  },
  {
   "cell_type": "code",
   "execution_count": 1,
   "id": "1e6c3155-fdf7-4536-b703-ea696427d40b",
   "metadata": {},
   "outputs": [],
   "source": [
    "a = range(10_000_000_000)"
   ]
  },
  {
   "cell_type": "code",
   "execution_count": 14,
   "id": "3ba7cccc-bfef-4937-9ea8-8f192bef85f0",
   "metadata": {},
   "outputs": [
    {
     "data": {
      "text/plain": [
       "False"
      ]
     },
     "execution_count": 14,
     "metadata": {},
     "output_type": "execute_result"
    }
   ],
   "source": [
    "-100 in a"
   ]
  },
  {
   "cell_type": "code",
   "execution_count": 3,
   "id": "619aca85-62ee-4a6c-87a2-600c81057d10",
   "metadata": {},
   "outputs": [
    {
     "name": "stdout",
     "output_type": "stream",
     "text": [
      "3\n"
     ]
    }
   ],
   "source": [
    "def calcul(a, b):\n",
    "    res = a + b\n",
    "    print(res)\n",
    "\n",
    "calcul(1, 2)"
   ]
  },
  {
   "cell_type": "code",
   "execution_count": 12,
   "id": "d585ccab-d383-4218-9327-bed01f76c96e",
   "metadata": {},
   "outputs": [
    {
     "name": "stdout",
     "output_type": "stream",
     "text": [
      "NAME\n"
     ]
    }
   ],
   "source": [
    "class Exemple:\n",
    "    def __init__(self, name=\"\"):\n",
    "        self.name = name\n",
    "    def salutation(self):\n",
    "        print(self.name)\n",
    "\n",
    "e = Exemple(\"toto\")\n",
    "e.name = \"NAME\"\n",
    "e.surname = \"hytrgf\"\n",
    "e.salutation() "
   ]
  },
  {
   "cell_type": "code",
   "execution_count": 13,
   "id": "e3227451-b7bd-420c-a732-2d161bd38ec4",
   "metadata": {},
   "outputs": [
    {
     "data": {
      "text/plain": [
       "'hytrgf'"
      ]
     },
     "execution_count": 13,
     "metadata": {},
     "output_type": "execute_result"
    }
   ],
   "source": [
    "e.surname"
   ]
  },
  {
   "cell_type": "code",
   "execution_count": null,
   "id": "fc180e0b-39e5-477e-85af-25d23f4c9f1c",
   "metadata": {},
   "outputs": [],
   "source": []
  }
 ],
 "metadata": {
  "kernelspec": {
   "display_name": "Python 3 (ipykernel)",
   "language": "python",
   "name": "python3"
  },
  "language_info": {
   "codemirror_mode": {
    "name": "ipython",
    "version": 3
   },
   "file_extension": ".py",
   "mimetype": "text/x-python",
   "name": "python",
   "nbconvert_exporter": "python",
   "pygments_lexer": "ipython3",
   "version": "3.12.2"
  }
 },
 "nbformat": 4,
 "nbformat_minor": 5
}
