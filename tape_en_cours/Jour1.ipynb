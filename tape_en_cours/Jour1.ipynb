{
 "cells": [
  {
   "cell_type": "markdown",
   "id": "b5645d8b-ea4b-4081-b69f-cb95efbe6ea9",
   "metadata": {},
   "source": [
    "# Jour 1\n",
    "\n",
    "## Matin \n",
    "\n",
    "* PEP (Python Enhancement Proposal)\n",
    "* interpréteurs python\n",
    "    * cpython (écrit en C)\n",
    "        * notion de `jit`\n",
    "        * notion de `GIL`\n",
    "    * pypy (écrit en python) => plus rapide que cPython car possède un `jit`\n",
    "* shells [REPL](https://en.wikipedia.org/wiki/Read%E2%80%93eval%E2%80%93print_loop) python \n",
    "    * `python`\n",
    "    * `ipython`\n",
    "\n",
    "* environnements virtuels\n",
    "    * isoler les environnements pythons les uns des autres\n",
    "    * ça permet de traailler sur plusieurs projets (avec des dépendances / versions différentes) en parallèle\n",
    "    * cycle de vie\n",
    "        * on le crée : `python -m venv $NOM_DE_L_ENV` \n",
    "        * on l'active\n",
    "            * unix : `source $NOM_DE_L_ENV/bin/activate`\n",
    "            * windows : `$NOM_DE_L_ENV\\Scripts\\activate`\n",
    "        * on le désactive : `deactivate` / on ferme le shell \n",
    "        * on le détruit : on supprime le dossier `$NOM_DE_L_ENV`\n",
    "* installer des paquets avec pip\n",
    "    * `pip install $PAQUET1 $PAQUET2`\n",
    "    * on peut installer une autre version / mettre à jour : `pip install -U $PAQUET==1.2.3`\n",
    "    * \n",
    "* lister des dépendances à installer `requirements.txt`"
   ]
  },
  {
   "cell_type": "code",
   "execution_count": 5,
   "id": "2dbd1cbd-2313-4a82-bc85-a114fe3a1693",
   "metadata": {},
   "outputs": [
    {
     "data": {
      "text/plain": [
       "4"
      ]
     },
     "execution_count": 5,
     "metadata": {},
     "output_type": "execute_result"
    }
   ],
   "source": [
    "2+2"
   ]
  },
  {
   "cell_type": "markdown",
   "id": "f5dece07-e704-41c6-b045-3ea901cf383f",
   "metadata": {},
   "source": [
    "Et voilà"
   ]
  },
  {
   "cell_type": "code",
   "execution_count": 4,
   "id": "a5d71f24-5283-4b61-a8a2-b008a9ff5341",
   "metadata": {},
   "outputs": [
    {
     "name": "stdout",
     "output_type": "stream",
     "text": [
      "4\n",
      "6\n"
     ]
    }
   ],
   "source": [
    "print(2+2)\n",
    "print(3+3)"
   ]
  },
  {
   "cell_type": "code",
   "execution_count": null,
   "id": "daed964a-60b5-4058-89ed-063306ee5dfd",
   "metadata": {},
   "outputs": [],
   "source": []
  }
 ],
 "metadata": {
  "kernelspec": {
   "display_name": "Python 3 (ipykernel)",
   "language": "python",
   "name": "python3"
  },
  "language_info": {
   "codemirror_mode": {
    "name": "ipython",
    "version": 3
   },
   "file_extension": ".py",
   "mimetype": "text/x-python",
   "name": "python",
   "nbconvert_exporter": "python",
   "pygments_lexer": "ipython3",
   "version": "3.12.2"
  }
 },
 "nbformat": 4,
 "nbformat_minor": 5
}
