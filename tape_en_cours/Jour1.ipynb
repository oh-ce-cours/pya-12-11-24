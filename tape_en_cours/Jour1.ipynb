{
 "cells": [
  {
   "cell_type": "markdown",
   "id": "b5645d8b-ea4b-4081-b69f-cb95efbe6ea9",
   "metadata": {},
   "source": [
    "# On va faire un super calcul "
   ]
  },
  {
   "cell_type": "code",
   "execution_count": 2,
   "id": "2dbd1cbd-2313-4a82-bc85-a114fe3a1693",
   "metadata": {},
   "outputs": [
    {
     "data": {
      "text/plain": [
       "4"
      ]
     },
     "execution_count": 2,
     "metadata": {},
     "output_type": "execute_result"
    }
   ],
   "source": [
    "2+2"
   ]
  },
  {
   "cell_type": "markdown",
   "id": "f5dece07-e704-41c6-b045-3ea901cf383f",
   "metadata": {},
   "source": [
    "Et voilà"
   ]
  },
  {
   "cell_type": "code",
   "execution_count": null,
   "id": "a5d71f24-5283-4b61-a8a2-b008a9ff5341",
   "metadata": {},
   "outputs": [],
   "source": []
  }
 ],
 "metadata": {
  "kernelspec": {
   "display_name": "Python 3 (ipykernel)",
   "language": "python",
   "name": "python3"
  },
  "language_info": {
   "codemirror_mode": {
    "name": "ipython",
    "version": 3
   },
   "file_extension": ".py",
   "mimetype": "text/x-python",
   "name": "python",
   "nbconvert_exporter": "python",
   "pygments_lexer": "ipython3",
   "version": "3.12.2"
  }
 },
 "nbformat": 4,
 "nbformat_minor": 5
}
