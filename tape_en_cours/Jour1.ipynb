{
 "cells": [
  {
   "cell_type": "markdown",
   "id": "b5645d8b-ea4b-4081-b69f-cb95efbe6ea9",
   "metadata": {},
   "source": [
    "# Jour 1\n",
    "\n",
    "## Matin \n",
    "\n",
    "* PEP (Python Enhancement Proposal)\n",
    "    * PEP 8 (formatage et bonnes pratiques des conventions de nommage) \n",
    "* interpréteurs python\n",
    "    * cpython (écrit en C)\n",
    "        * notion de `jit`\n",
    "        * notion de `GIL`\n",
    "    * pypy (écrit en python) => plus rapide que cPython car possède un `jit`\n",
    "* shells [REPL](https://en.wikipedia.org/wiki/Read%E2%80%93eval%E2%80%93print_loop) python \n",
    "    * `python`\n",
    "    * `ipython`\n",
    "\n",
    "* environnements virtuels\n",
    "    * isoler les environnements pythons les uns des autres\n",
    "    * ça permet de traailler sur plusieurs projets (avec des dépendances / versions différentes) en parallèle\n",
    "    * cycle de vie\n",
    "        * on le crée : `python -m venv $NOM_DE_L_ENV` \n",
    "        * on l'active\n",
    "            * unix : `source $NOM_DE_L_ENV/bin/activate`\n",
    "            * windows : `$NOM_DE_L_ENV\\Scripts\\activate`\n",
    "        * on le désactive : `deactivate` / on ferme le shell \n",
    "        * on le détruit : on supprime le dossier `$NOM_DE_L_ENV`\n",
    "* installer des paquets avec pip\n",
    "    * `pip install $PAQUET1 $PAQUET2`\n",
    "    * on peut installer une autre version / mettre à jour : `pip install -U $PAQUET==1.2.3`\n",
    "* lister des dépendances à installer `requirements.txt`\n",
    "    * `pip freeze > requirements.txt`\n",
    "    * `pip install -r requirements.txt` "
   ]
  },
  {
   "cell_type": "code",
   "execution_count": null,
   "id": "2dbd1cbd-2313-4a82-bc85-a114fe3a1693",
   "metadata": {},
   "outputs": [],
   "source": []
  },
  {
   "cell_type": "code",
   "execution_count": null,
   "id": "5d07e091-b242-4227-a5fd-d98bddea8579",
   "metadata": {},
   "outputs": [],
   "source": []
  }
 ],
 "metadata": {
  "kernelspec": {
   "display_name": "Python 3 (ipykernel)",
   "language": "python",
   "name": "python3"
  },
  "language_info": {
   "codemirror_mode": {
    "name": "ipython",
    "version": 3
   },
   "file_extension": ".py",
   "mimetype": "text/x-python",
   "name": "python",
   "nbconvert_exporter": "python",
   "pygments_lexer": "ipython3",
   "version": "3.12.2"
  }
 },
 "nbformat": 4,
 "nbformat_minor": 5
}
